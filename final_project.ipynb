{
 "cells": [
  {
   "cell_type": "markdown",
   "metadata": {},
   "source": [
    "# <font color='green'>ĐỒ ÁN CUỐI KÌ: FINAL-PROJECT\n",
    "## Danh sách các thành viên và bảng phân công công việc:\n",
    "| STT | Họ và tên | MSSV | Nội dung công việc | Hoàn thành |\n",
    "| :--- | :---: | :---: | :---: | ---: |\n",
    "| 01 | Hồ Hữu Ngọc | 19120602 || 100%|\n",
    "| 02 | Lê Thành Lộc | 19120562 |  | 100% |"
   ]
  },
  {
   "cell_type": "markdown",
   "metadata": {},
   "source": [
    "## Import các thư viện cần thiết"
   ]
  },
  {
   "cell_type": "code",
   "execution_count": 1,
   "metadata": {},
   "outputs": [],
   "source": [
    "import pandas as pd\n",
    "import matplotlib.pyplot as plt\n",
    "import numpy as np\n",
    "import seaborn as sns"
   ]
  },
  {
   "cell_type": "markdown",
   "metadata": {},
   "source": [
    "## Thu thập dữ liệu"
   ]
  },
  {
   "cell_type": "markdown",
   "metadata": {},
   "source": [
    "#### Dữ liệu này là bộ dữ liệu bán hàng của một siêu thị bọn em tìm được từ kaggle được public [ở đây](https://www.kaggle.com/aungpyaeap/supermarket-sales). Dữ liệu này là các hóa đơn từ các chi nhánh của siêu thị lưu lại.\n",
    "#### Context :\n",
    "The growth of supermarkets in most populated cities are increasing and market competitions are also high. The dataset is one of the historical sales of supermarket company which has recorded in 3 different branches for 3 months data. Predictive data analytics methods are easy to apply with this dataset.\n",
    "#### Description\n",
    "Attribute information\n",
    "Invoice id: Computer generated sales slip invoice identification number\n",
    "Branch: Branch of supercenter (3 branches are available identified by A, B and C).\n",
    "City: Location of supercenters\n",
    "Customer type: Type of customers, recorded by Members for customers using member card and Normal for without member card.\n",
    "Gender: Gender type of customer\n",
    "Product line: General item categorization groups - Electronic accessories, Fashion accessories, Food and beverages, Health and beauty, Home and lifestyle, Sports and travel\n",
    "Unit price: Price of each product in $\n",
    "Quantity: Number of products purchased by customer\n",
    "Tax: 5% tax fee for customer buying\n",
    "Total: Total price including tax\n",
    "Date: Date of purchase (Record available from January 2019 to March 2019)\n",
    "Time: Purchase time (10am to 9pm)\n",
    "Payment: Payment used by customer for purchase (3 methods are available – Cash, Credit card and Ewallet)\n",
    "COGS: Cost of goods sold\n",
    "Gross margin percentage: Gross margin percentage\n",
    "Gross income: Gross income\n",
    "Rating: Customer stratification rating on their overall shopping experience (On a scale of 1 to 10)\n",
    "#### Dữ liệu này được tác giả cho phép sử dụng với mục đích phân tích hoặc các mục đích khác\n",
    "#### License : Other (\"This dataset can be used for predictive data analytics purpose\")"
   ]
  },
  {
   "cell_type": "markdown",
   "metadata": {},
   "source": [
    "---"
   ]
  },
  {
   "cell_type": "markdown",
   "metadata": {},
   "source": [
    "## Khám phá dữ liệu"
   ]
  },
  {
   "cell_type": "markdown",
   "metadata": {},
   "source": [
    "### Đọc dữ liệu vào Dataframe"
   ]
  },
  {
   "cell_type": "code",
   "execution_count": 2,
   "metadata": {},
   "outputs": [
    {
     "data": {
      "text/html": [
       "<div>\n",
       "<style scoped>\n",
       "    .dataframe tbody tr th:only-of-type {\n",
       "        vertical-align: middle;\n",
       "    }\n",
       "\n",
       "    .dataframe tbody tr th {\n",
       "        vertical-align: top;\n",
       "    }\n",
       "\n",
       "    .dataframe thead th {\n",
       "        text-align: right;\n",
       "    }\n",
       "</style>\n",
       "<table border=\"1\" class=\"dataframe\">\n",
       "  <thead>\n",
       "    <tr style=\"text-align: right;\">\n",
       "      <th></th>\n",
       "      <th>Invoice ID</th>\n",
       "      <th>Branch</th>\n",
       "      <th>City</th>\n",
       "      <th>Customer type</th>\n",
       "      <th>Gender</th>\n",
       "      <th>Product line</th>\n",
       "      <th>Unit price</th>\n",
       "      <th>Quantity</th>\n",
       "      <th>Tax 5%</th>\n",
       "      <th>Total</th>\n",
       "      <th>Date</th>\n",
       "      <th>Time</th>\n",
       "      <th>Payment</th>\n",
       "      <th>cogs</th>\n",
       "      <th>gross margin percentage</th>\n",
       "      <th>gross income</th>\n",
       "      <th>Rating</th>\n",
       "    </tr>\n",
       "  </thead>\n",
       "  <tbody>\n",
       "    <tr>\n",
       "      <th>0</th>\n",
       "      <td>750-67-8428</td>\n",
       "      <td>A</td>\n",
       "      <td>Yangon</td>\n",
       "      <td>Member</td>\n",
       "      <td>Female</td>\n",
       "      <td>Health and beauty</td>\n",
       "      <td>74.69</td>\n",
       "      <td>7</td>\n",
       "      <td>26.1415</td>\n",
       "      <td>548.9715</td>\n",
       "      <td>1/5/2019</td>\n",
       "      <td>13:08</td>\n",
       "      <td>Ewallet</td>\n",
       "      <td>522.83</td>\n",
       "      <td>4.761905</td>\n",
       "      <td>26.1415</td>\n",
       "      <td>9.1</td>\n",
       "    </tr>\n",
       "    <tr>\n",
       "      <th>1</th>\n",
       "      <td>226-31-3081</td>\n",
       "      <td>C</td>\n",
       "      <td>Naypyitaw</td>\n",
       "      <td>Normal</td>\n",
       "      <td>Female</td>\n",
       "      <td>Electronic accessories</td>\n",
       "      <td>15.28</td>\n",
       "      <td>5</td>\n",
       "      <td>3.8200</td>\n",
       "      <td>80.2200</td>\n",
       "      <td>3/8/2019</td>\n",
       "      <td>10:29</td>\n",
       "      <td>Cash</td>\n",
       "      <td>76.40</td>\n",
       "      <td>4.761905</td>\n",
       "      <td>3.8200</td>\n",
       "      <td>9.6</td>\n",
       "    </tr>\n",
       "    <tr>\n",
       "      <th>2</th>\n",
       "      <td>631-41-3108</td>\n",
       "      <td>A</td>\n",
       "      <td>Yangon</td>\n",
       "      <td>Normal</td>\n",
       "      <td>Male</td>\n",
       "      <td>Home and lifestyle</td>\n",
       "      <td>46.33</td>\n",
       "      <td>7</td>\n",
       "      <td>16.2155</td>\n",
       "      <td>340.5255</td>\n",
       "      <td>3/3/2019</td>\n",
       "      <td>13:23</td>\n",
       "      <td>Credit card</td>\n",
       "      <td>324.31</td>\n",
       "      <td>4.761905</td>\n",
       "      <td>16.2155</td>\n",
       "      <td>7.4</td>\n",
       "    </tr>\n",
       "    <tr>\n",
       "      <th>3</th>\n",
       "      <td>123-19-1176</td>\n",
       "      <td>A</td>\n",
       "      <td>Yangon</td>\n",
       "      <td>Member</td>\n",
       "      <td>Male</td>\n",
       "      <td>Health and beauty</td>\n",
       "      <td>58.22</td>\n",
       "      <td>8</td>\n",
       "      <td>23.2880</td>\n",
       "      <td>489.0480</td>\n",
       "      <td>1/27/2019</td>\n",
       "      <td>20:33</td>\n",
       "      <td>Ewallet</td>\n",
       "      <td>465.76</td>\n",
       "      <td>4.761905</td>\n",
       "      <td>23.2880</td>\n",
       "      <td>8.4</td>\n",
       "    </tr>\n",
       "    <tr>\n",
       "      <th>4</th>\n",
       "      <td>373-73-7910</td>\n",
       "      <td>A</td>\n",
       "      <td>Yangon</td>\n",
       "      <td>Normal</td>\n",
       "      <td>Male</td>\n",
       "      <td>Sports and travel</td>\n",
       "      <td>86.31</td>\n",
       "      <td>7</td>\n",
       "      <td>30.2085</td>\n",
       "      <td>634.3785</td>\n",
       "      <td>2/8/2019</td>\n",
       "      <td>10:37</td>\n",
       "      <td>Ewallet</td>\n",
       "      <td>604.17</td>\n",
       "      <td>4.761905</td>\n",
       "      <td>30.2085</td>\n",
       "      <td>5.3</td>\n",
       "    </tr>\n",
       "  </tbody>\n",
       "</table>\n",
       "</div>"
      ],
      "text/plain": [
       "    Invoice ID Branch       City Customer type  Gender  \\\n",
       "0  750-67-8428      A     Yangon        Member  Female   \n",
       "1  226-31-3081      C  Naypyitaw        Normal  Female   \n",
       "2  631-41-3108      A     Yangon        Normal    Male   \n",
       "3  123-19-1176      A     Yangon        Member    Male   \n",
       "4  373-73-7910      A     Yangon        Normal    Male   \n",
       "\n",
       "             Product line  Unit price  Quantity   Tax 5%     Total       Date  \\\n",
       "0       Health and beauty       74.69         7  26.1415  548.9715   1/5/2019   \n",
       "1  Electronic accessories       15.28         5   3.8200   80.2200   3/8/2019   \n",
       "2      Home and lifestyle       46.33         7  16.2155  340.5255   3/3/2019   \n",
       "3       Health and beauty       58.22         8  23.2880  489.0480  1/27/2019   \n",
       "4       Sports and travel       86.31         7  30.2085  634.3785   2/8/2019   \n",
       "\n",
       "    Time      Payment    cogs  gross margin percentage  gross income  Rating  \n",
       "0  13:08      Ewallet  522.83                 4.761905       26.1415     9.1  \n",
       "1  10:29         Cash   76.40                 4.761905        3.8200     9.6  \n",
       "2  13:23  Credit card  324.31                 4.761905       16.2155     7.4  \n",
       "3  20:33      Ewallet  465.76                 4.761905       23.2880     8.4  \n",
       "4  10:37      Ewallet  604.17                 4.761905       30.2085     5.3  "
      ]
     },
     "execution_count": 2,
     "metadata": {},
     "output_type": "execute_result"
    }
   ],
   "source": [
    "sales_df = pd.read_csv('./data/sales.csv')\n",
    "sales_df.head()"
   ]
  },
  {
   "cell_type": "markdown",
   "metadata": {},
   "source": [
    "### Dữ liệu gồm có bao nhiêu dòng và bao nhiêu cột? "
   ]
  },
  {
   "cell_type": "code",
   "execution_count": 3,
   "metadata": {
    "deletable": false,
    "nbgrader": {
     "cell_type": "code",
     "checksum": "0a03dc9216c2e34b0151074d168e31a3",
     "grade": false,
     "grade_id": "cell-bc8810dbc4930a46",
     "locked": false,
     "schema_version": 3,
     "solution": true,
     "task": false
    }
   },
   "outputs": [
    {
     "name": "stdout",
     "output_type": "stream",
     "text": [
      "Dữ liệu bao gồm 1000 dòng và 17 cột\n"
     ]
    }
   ],
   "source": [
    "num_rows, num_cols = sales_df.shape\n",
    "print('Dữ liệu bao gồm {} dòng và {} cột'.format(num_rows, num_cols))"
   ]
  },
  {
   "cell_type": "markdown",
   "metadata": {},
   "source": [
    "### Mỗi dòng có ý nghĩa gì? Có vấn đề các dòng có ý nghĩa khác nhau không?"
   ]
  },
  {
   "cell_type": "markdown",
   "metadata": {},
   "source": [
    "Theo mô tả dữ liệu trong kaggle và theo quan sát sơ bộ về dữ liệu thì mỗi dòng cho biết thông tin về `hóa đơn của một sản phẩm được bán ra`. Và có vẻ như không có dòng nào có ý nghĩa khác nhau."
   ]
  },
  {
   "cell_type": "markdown",
   "metadata": {},
   "source": [
    "### Dữ liệu có các dòng bị lặp không? "
   ]
  },
  {
   "cell_type": "code",
   "execution_count": 4,
   "metadata": {},
   "outputs": [
    {
     "name": "stdout",
     "output_type": "stream",
     "text": [
      "Dữ liệu có 0 dòng bị lặp\n"
     ]
    }
   ],
   "source": [
    "num_duplicated = sales_df.duplicated().sum()\n",
    "print(\"Dữ liệu có\",num_duplicated,\"dòng bị lặp\")"
   ]
  },
  {
   "cell_type": "markdown",
   "metadata": {},
   "source": [
    "### Mỗi cột có ý nghĩa gì?"
   ]
  },
  {
   "cell_type": "markdown",
   "metadata": {},
   "source": [
    "Theo như trong kaggle, thì các cột trong file được mô tả như sau: \n",
    "- **Invoice id**: Id của hóa đơn\n",
    "- **Branch**: Tên chi nhánh bán hàng của siêu thị (A,B hoặc C).\n",
    "- **City**: Tên thành phố của siêu thị.\n",
    "- **Customer type**: Loại khách hàng bao gồm khách hàng thường (Không có thẻ thành viên), Khách hàng thành viên (Nếu có thẻ thành viên).\n",
    "- **Gender**: Giới tính của khách hàng (Male, Female).\n",
    "- **Product line**: Dòng sản phẩm được bán ra.\n",
    "- **Unit price**: Giá của sản phẩm (Đơn vị tiền tệ: đô la).\n",
    "- **Quantity**: Số lượng sản phẩm khách hàng đã mua.\n",
    "- **Tax**: 5% tiền thuế cho tất cả các sản phẩm khách hàng cần chi trả.\n",
    "- **Total**: Tổng giá tiền khách hàng phải trả bao gồm cả thuế\n",
    "- **Date**: Ngày mua hàng.\n",
    "- **Time**: Thời gian mua hàng.\n",
    "- **Payment**: Phương thức thanh toán khách hàng sử dụng để mua hàng (3 phương thức : `Cash`: Tiền mặt, `Credit card`: Thẻ tín dụng và `Ewallet`: Ví điện tử).\n",
    "- **COGS**: Giá vốn của sản phẩm.\n",
    "- **Gross margin percentage**: Tỷ lệ lợi nhuận.\n",
    "- **Gross income**: Tổng thu nhập.\n",
    "- **Rating**: Đánh giá của khách hàng(1 sao đến 10 sao)"
   ]
  },
  {
   "cell_type": "markdown",
   "metadata": {},
   "source": [
    "### Mỗi cột hiện đang có kiểu dữ liệu gì? Có cột nào có kiểu dữ liệu chưa phù hợp để có thể xử lý tiếp không? "
   ]
  },
  {
   "cell_type": "markdown",
   "metadata": {},
   "source": [
    "- Khi đọc dữ liệu từ file `sales.csv` lên, không xuất hiện warning rằng có một cột nào đó có dtype không đồng nhất nên ta không phải lo các cột có kiểu dữ liệu `object` có thể có các phần tử có kiểu dữ liệu khác nhau"
   ]
  },
  {
   "cell_type": "code",
   "execution_count": 5,
   "metadata": {},
   "outputs": [
    {
     "data": {
      "text/plain": [
       "Invoice ID                  object\n",
       "Branch                      object\n",
       "City                        object\n",
       "Customer type               object\n",
       "Gender                      object\n",
       "Product line                object\n",
       "Unit price                 float64\n",
       "Quantity                     int64\n",
       "Tax 5%                     float64\n",
       "Total                      float64\n",
       "Date                        object\n",
       "Time                        object\n",
       "Payment                     object\n",
       "cogs                       float64\n",
       "gross margin percentage    float64\n",
       "gross income               float64\n",
       "Rating                     float64\n",
       "dtype: object"
      ]
     },
     "execution_count": 5,
     "metadata": {},
     "output_type": "execute_result"
    }
   ],
   "source": [
    "sales_df.dtypes"
   ]
  },
  {
   "cell_type": "markdown",
   "metadata": {},
   "source": [
    "- Nhận thấp rằng, cột `Date` và `Time` có kiểu dữ liệu là object, ta cần thay đổi nó thành Datetime (theo từng format) để tiện cho việc xử lý dữ liệu sau này (tìm min, max, median, ...). Các cột còn lại có vẻ kiểu dữ liệu đã khá đúng."
   ]
  },
  {
   "cell_type": "code",
   "execution_count": 6,
   "metadata": {},
   "outputs": [
    {
     "data": {
      "text/plain": [
       "865    1/26/2019\n",
       "768    3/16/2019\n",
       "320    2/26/2019\n",
       "842     3/2/2019\n",
       "921     2/8/2019\n",
       "956    1/10/2019\n",
       "74     1/22/2019\n",
       "602    3/14/2019\n",
       "437     3/8/2019\n",
       "53     1/25/2019\n",
       "Name: Date, dtype: object"
      ]
     },
     "execution_count": 6,
     "metadata": {},
     "output_type": "execute_result"
    }
   ],
   "source": [
    "sales_df['Date'].sample(10)"
   ]
  },
  {
   "cell_type": "code",
   "execution_count": 7,
   "metadata": {},
   "outputs": [
    {
     "data": {
      "text/plain": [
       "486    14:42\n",
       "450    19:07\n",
       "609    10:37\n",
       "16     11:03\n",
       "799    18:38\n",
       "850    11:05\n",
       "24     17:36\n",
       "788    10:55\n",
       "568    10:33\n",
       "839    11:40\n",
       "Name: Time, dtype: object"
      ]
     },
     "execution_count": 7,
     "metadata": {},
     "output_type": "execute_result"
    }
   ],
   "source": [
    "sales_df['Time'].sample(10)"
   ]
  },
  {
   "cell_type": "markdown",
   "metadata": {},
   "source": [
    "- Thử xuất ra một vài giá trị của các cột `Date` và `Time` trước khi thay đổi kiểu dữ liệu ở bước tiền xử lý"
   ]
  },
  {
   "cell_type": "code",
   "execution_count": 8,
   "metadata": {},
   "outputs": [
    {
     "data": {
      "text/html": [
       "<div>\n",
       "<style scoped>\n",
       "    .dataframe tbody tr th:only-of-type {\n",
       "        vertical-align: middle;\n",
       "    }\n",
       "\n",
       "    .dataframe tbody tr th {\n",
       "        vertical-align: top;\n",
       "    }\n",
       "\n",
       "    .dataframe thead th {\n",
       "        text-align: right;\n",
       "    }\n",
       "</style>\n",
       "<table border=\"1\" class=\"dataframe\">\n",
       "  <thead>\n",
       "    <tr style=\"text-align: right;\">\n",
       "      <th></th>\n",
       "      <th>Unit price</th>\n",
       "      <th>Quantity</th>\n",
       "      <th>Tax 5%</th>\n",
       "      <th>Total</th>\n",
       "      <th>cogs</th>\n",
       "      <th>gross margin percentage</th>\n",
       "      <th>gross income</th>\n",
       "      <th>Rating</th>\n",
       "    </tr>\n",
       "  </thead>\n",
       "  <tbody>\n",
       "    <tr>\n",
       "      <th>count</th>\n",
       "      <td>1000.000000</td>\n",
       "      <td>1000.000000</td>\n",
       "      <td>1000.000000</td>\n",
       "      <td>1000.000000</td>\n",
       "      <td>1000.00000</td>\n",
       "      <td>1000.000000</td>\n",
       "      <td>1000.000000</td>\n",
       "      <td>1000.00000</td>\n",
       "    </tr>\n",
       "    <tr>\n",
       "      <th>mean</th>\n",
       "      <td>55.672130</td>\n",
       "      <td>5.510000</td>\n",
       "      <td>15.379369</td>\n",
       "      <td>322.966749</td>\n",
       "      <td>307.58738</td>\n",
       "      <td>4.761905</td>\n",
       "      <td>15.379369</td>\n",
       "      <td>6.97270</td>\n",
       "    </tr>\n",
       "    <tr>\n",
       "      <th>std</th>\n",
       "      <td>26.494628</td>\n",
       "      <td>2.923431</td>\n",
       "      <td>11.708825</td>\n",
       "      <td>245.885335</td>\n",
       "      <td>234.17651</td>\n",
       "      <td>0.000000</td>\n",
       "      <td>11.708825</td>\n",
       "      <td>1.71858</td>\n",
       "    </tr>\n",
       "    <tr>\n",
       "      <th>min</th>\n",
       "      <td>10.080000</td>\n",
       "      <td>1.000000</td>\n",
       "      <td>0.508500</td>\n",
       "      <td>10.678500</td>\n",
       "      <td>10.17000</td>\n",
       "      <td>4.761905</td>\n",
       "      <td>0.508500</td>\n",
       "      <td>4.00000</td>\n",
       "    </tr>\n",
       "    <tr>\n",
       "      <th>25%</th>\n",
       "      <td>32.875000</td>\n",
       "      <td>3.000000</td>\n",
       "      <td>5.924875</td>\n",
       "      <td>124.422375</td>\n",
       "      <td>118.49750</td>\n",
       "      <td>4.761905</td>\n",
       "      <td>5.924875</td>\n",
       "      <td>5.50000</td>\n",
       "    </tr>\n",
       "    <tr>\n",
       "      <th>50%</th>\n",
       "      <td>55.230000</td>\n",
       "      <td>5.000000</td>\n",
       "      <td>12.088000</td>\n",
       "      <td>253.848000</td>\n",
       "      <td>241.76000</td>\n",
       "      <td>4.761905</td>\n",
       "      <td>12.088000</td>\n",
       "      <td>7.00000</td>\n",
       "    </tr>\n",
       "    <tr>\n",
       "      <th>75%</th>\n",
       "      <td>77.935000</td>\n",
       "      <td>8.000000</td>\n",
       "      <td>22.445250</td>\n",
       "      <td>471.350250</td>\n",
       "      <td>448.90500</td>\n",
       "      <td>4.761905</td>\n",
       "      <td>22.445250</td>\n",
       "      <td>8.50000</td>\n",
       "    </tr>\n",
       "    <tr>\n",
       "      <th>max</th>\n",
       "      <td>99.960000</td>\n",
       "      <td>10.000000</td>\n",
       "      <td>49.650000</td>\n",
       "      <td>1042.650000</td>\n",
       "      <td>993.00000</td>\n",
       "      <td>4.761905</td>\n",
       "      <td>49.650000</td>\n",
       "      <td>10.00000</td>\n",
       "    </tr>\n",
       "  </tbody>\n",
       "</table>\n",
       "</div>"
      ],
      "text/plain": [
       "        Unit price     Quantity       Tax 5%        Total        cogs  \\\n",
       "count  1000.000000  1000.000000  1000.000000  1000.000000  1000.00000   \n",
       "mean     55.672130     5.510000    15.379369   322.966749   307.58738   \n",
       "std      26.494628     2.923431    11.708825   245.885335   234.17651   \n",
       "min      10.080000     1.000000     0.508500    10.678500    10.17000   \n",
       "25%      32.875000     3.000000     5.924875   124.422375   118.49750   \n",
       "50%      55.230000     5.000000    12.088000   253.848000   241.76000   \n",
       "75%      77.935000     8.000000    22.445250   471.350250   448.90500   \n",
       "max      99.960000    10.000000    49.650000  1042.650000   993.00000   \n",
       "\n",
       "       gross margin percentage  gross income      Rating  \n",
       "count              1000.000000   1000.000000  1000.00000  \n",
       "mean                  4.761905     15.379369     6.97270  \n",
       "std                   0.000000     11.708825     1.71858  \n",
       "min                   4.761905      0.508500     4.00000  \n",
       "25%                   4.761905      5.924875     5.50000  \n",
       "50%                   4.761905     12.088000     7.00000  \n",
       "75%                   4.761905     22.445250     8.50000  \n",
       "max                   4.761905     49.650000    10.00000  "
      ]
     },
     "execution_count": 8,
     "metadata": {},
     "output_type": "execute_result"
    }
   ],
   "source": [
    "sales_df.describe()"
   ]
  },
  {
   "cell_type": "markdown",
   "metadata": {},
   "source": [
    "---"
   ]
  },
  {
   "cell_type": "markdown",
   "metadata": {},
   "source": [
    "## Tiền xử lý"
   ]
  },
  {
   "cell_type": "markdown",
   "metadata": {},
   "source": [
    "### Chuyển dtype của cột \"Date\" và \"Time\" sang datetime"
   ]
  },
  {
   "cell_type": "code",
   "execution_count": 9,
   "metadata": {},
   "outputs": [],
   "source": [
    "sales_df['Date']= pd.to_datetime(sales_df['Date'], format='%m/%d/%Y')\n",
    "sales_df['Time']= pd.to_datetime(sales_df['Time'], format = '%H:%M')"
   ]
  },
  {
   "cell_type": "markdown",
   "metadata": {},
   "source": [
    "Kiểm tra lại kiểu dữ liệu của 2 cột `Date` và `Time`"
   ]
  },
  {
   "cell_type": "code",
   "execution_count": 10,
   "metadata": {},
   "outputs": [
    {
     "data": {
      "text/plain": [
       "dtype('<M8[ns]')"
      ]
     },
     "execution_count": 10,
     "metadata": {},
     "output_type": "execute_result"
    }
   ],
   "source": [
    "sales_df['Date'].dtype"
   ]
  },
  {
   "cell_type": "code",
   "execution_count": 11,
   "metadata": {},
   "outputs": [
    {
     "data": {
      "text/plain": [
       "dtype('<M8[ns]')"
      ]
     },
     "execution_count": 11,
     "metadata": {},
     "output_type": "execute_result"
    }
   ],
   "source": [
    "sales_df['Time'].dtype"
   ]
  },
  {
   "cell_type": "markdown",
   "metadata": {},
   "source": [
    "**Kiểu dữ liệu của toàn bộ cột trong dataframe `sales_df` lúc này**"
   ]
  },
  {
   "cell_type": "code",
   "execution_count": 12,
   "metadata": {},
   "outputs": [
    {
     "data": {
      "text/plain": [
       "Invoice ID                         object\n",
       "Branch                             object\n",
       "City                               object\n",
       "Customer type                      object\n",
       "Gender                             object\n",
       "Product line                       object\n",
       "Unit price                        float64\n",
       "Quantity                            int64\n",
       "Tax 5%                            float64\n",
       "Total                             float64\n",
       "Date                       datetime64[ns]\n",
       "Time                       datetime64[ns]\n",
       "Payment                            object\n",
       "cogs                              float64\n",
       "gross margin percentage           float64\n",
       "gross income                      float64\n",
       "Rating                            float64\n",
       "dtype: object"
      ]
     },
     "execution_count": 12,
     "metadata": {},
     "output_type": "execute_result"
    }
   ],
   "source": [
    "sales_df.dtypes"
   ]
  },
  {
   "cell_type": "markdown",
   "metadata": {},
   "source": [
    "### Đổi tên cột \"Invoice ID\" thành \"ID\" để tiện sử dụng sau này"
   ]
  },
  {
   "cell_type": "code",
   "execution_count": 13,
   "metadata": {},
   "outputs": [],
   "source": [
    "sales_df.rename(columns = {'Invoice ID':'ID'}, inplace = True)"
   ]
  },
  {
   "cell_type": "markdown",
   "metadata": {},
   "source": [
    "### Cột \"ID\" có vẻ như còn các dấu \"-\" cần được xóa đi"
   ]
  },
  {
   "cell_type": "code",
   "execution_count": 14,
   "metadata": {},
   "outputs": [
    {
     "data": {
      "text/html": [
       "<div>\n",
       "<style scoped>\n",
       "    .dataframe tbody tr th:only-of-type {\n",
       "        vertical-align: middle;\n",
       "    }\n",
       "\n",
       "    .dataframe tbody tr th {\n",
       "        vertical-align: top;\n",
       "    }\n",
       "\n",
       "    .dataframe thead th {\n",
       "        text-align: right;\n",
       "    }\n",
       "</style>\n",
       "<table border=\"1\" class=\"dataframe\">\n",
       "  <thead>\n",
       "    <tr style=\"text-align: right;\">\n",
       "      <th></th>\n",
       "      <th>ID</th>\n",
       "      <th>Branch</th>\n",
       "      <th>City</th>\n",
       "      <th>Customer type</th>\n",
       "      <th>Gender</th>\n",
       "      <th>Product line</th>\n",
       "      <th>Unit price</th>\n",
       "      <th>Quantity</th>\n",
       "      <th>Tax 5%</th>\n",
       "      <th>Total</th>\n",
       "      <th>Date</th>\n",
       "      <th>Time</th>\n",
       "      <th>Payment</th>\n",
       "      <th>cogs</th>\n",
       "      <th>gross margin percentage</th>\n",
       "      <th>gross income</th>\n",
       "      <th>Rating</th>\n",
       "    </tr>\n",
       "  </thead>\n",
       "  <tbody>\n",
       "    <tr>\n",
       "      <th>0</th>\n",
       "      <td>750678428</td>\n",
       "      <td>A</td>\n",
       "      <td>Yangon</td>\n",
       "      <td>Member</td>\n",
       "      <td>Female</td>\n",
       "      <td>Health and beauty</td>\n",
       "      <td>74.69</td>\n",
       "      <td>7</td>\n",
       "      <td>26.1415</td>\n",
       "      <td>548.9715</td>\n",
       "      <td>2019-01-05</td>\n",
       "      <td>1900-01-01 13:08:00</td>\n",
       "      <td>Ewallet</td>\n",
       "      <td>522.83</td>\n",
       "      <td>4.761905</td>\n",
       "      <td>26.1415</td>\n",
       "      <td>9.1</td>\n",
       "    </tr>\n",
       "    <tr>\n",
       "      <th>1</th>\n",
       "      <td>226313081</td>\n",
       "      <td>C</td>\n",
       "      <td>Naypyitaw</td>\n",
       "      <td>Normal</td>\n",
       "      <td>Female</td>\n",
       "      <td>Electronic accessories</td>\n",
       "      <td>15.28</td>\n",
       "      <td>5</td>\n",
       "      <td>3.8200</td>\n",
       "      <td>80.2200</td>\n",
       "      <td>2019-03-08</td>\n",
       "      <td>1900-01-01 10:29:00</td>\n",
       "      <td>Cash</td>\n",
       "      <td>76.40</td>\n",
       "      <td>4.761905</td>\n",
       "      <td>3.8200</td>\n",
       "      <td>9.6</td>\n",
       "    </tr>\n",
       "    <tr>\n",
       "      <th>2</th>\n",
       "      <td>631413108</td>\n",
       "      <td>A</td>\n",
       "      <td>Yangon</td>\n",
       "      <td>Normal</td>\n",
       "      <td>Male</td>\n",
       "      <td>Home and lifestyle</td>\n",
       "      <td>46.33</td>\n",
       "      <td>7</td>\n",
       "      <td>16.2155</td>\n",
       "      <td>340.5255</td>\n",
       "      <td>2019-03-03</td>\n",
       "      <td>1900-01-01 13:23:00</td>\n",
       "      <td>Credit card</td>\n",
       "      <td>324.31</td>\n",
       "      <td>4.761905</td>\n",
       "      <td>16.2155</td>\n",
       "      <td>7.4</td>\n",
       "    </tr>\n",
       "    <tr>\n",
       "      <th>3</th>\n",
       "      <td>123191176</td>\n",
       "      <td>A</td>\n",
       "      <td>Yangon</td>\n",
       "      <td>Member</td>\n",
       "      <td>Male</td>\n",
       "      <td>Health and beauty</td>\n",
       "      <td>58.22</td>\n",
       "      <td>8</td>\n",
       "      <td>23.2880</td>\n",
       "      <td>489.0480</td>\n",
       "      <td>2019-01-27</td>\n",
       "      <td>1900-01-01 20:33:00</td>\n",
       "      <td>Ewallet</td>\n",
       "      <td>465.76</td>\n",
       "      <td>4.761905</td>\n",
       "      <td>23.2880</td>\n",
       "      <td>8.4</td>\n",
       "    </tr>\n",
       "    <tr>\n",
       "      <th>4</th>\n",
       "      <td>373737910</td>\n",
       "      <td>A</td>\n",
       "      <td>Yangon</td>\n",
       "      <td>Normal</td>\n",
       "      <td>Male</td>\n",
       "      <td>Sports and travel</td>\n",
       "      <td>86.31</td>\n",
       "      <td>7</td>\n",
       "      <td>30.2085</td>\n",
       "      <td>634.3785</td>\n",
       "      <td>2019-02-08</td>\n",
       "      <td>1900-01-01 10:37:00</td>\n",
       "      <td>Ewallet</td>\n",
       "      <td>604.17</td>\n",
       "      <td>4.761905</td>\n",
       "      <td>30.2085</td>\n",
       "      <td>5.3</td>\n",
       "    </tr>\n",
       "    <tr>\n",
       "      <th>...</th>\n",
       "      <td>...</td>\n",
       "      <td>...</td>\n",
       "      <td>...</td>\n",
       "      <td>...</td>\n",
       "      <td>...</td>\n",
       "      <td>...</td>\n",
       "      <td>...</td>\n",
       "      <td>...</td>\n",
       "      <td>...</td>\n",
       "      <td>...</td>\n",
       "      <td>...</td>\n",
       "      <td>...</td>\n",
       "      <td>...</td>\n",
       "      <td>...</td>\n",
       "      <td>...</td>\n",
       "      <td>...</td>\n",
       "      <td>...</td>\n",
       "    </tr>\n",
       "    <tr>\n",
       "      <th>995</th>\n",
       "      <td>233675758</td>\n",
       "      <td>C</td>\n",
       "      <td>Naypyitaw</td>\n",
       "      <td>Normal</td>\n",
       "      <td>Male</td>\n",
       "      <td>Health and beauty</td>\n",
       "      <td>40.35</td>\n",
       "      <td>1</td>\n",
       "      <td>2.0175</td>\n",
       "      <td>42.3675</td>\n",
       "      <td>2019-01-29</td>\n",
       "      <td>1900-01-01 13:46:00</td>\n",
       "      <td>Ewallet</td>\n",
       "      <td>40.35</td>\n",
       "      <td>4.761905</td>\n",
       "      <td>2.0175</td>\n",
       "      <td>6.2</td>\n",
       "    </tr>\n",
       "    <tr>\n",
       "      <th>996</th>\n",
       "      <td>303962227</td>\n",
       "      <td>B</td>\n",
       "      <td>Mandalay</td>\n",
       "      <td>Normal</td>\n",
       "      <td>Female</td>\n",
       "      <td>Home and lifestyle</td>\n",
       "      <td>97.38</td>\n",
       "      <td>10</td>\n",
       "      <td>48.6900</td>\n",
       "      <td>1022.4900</td>\n",
       "      <td>2019-03-02</td>\n",
       "      <td>1900-01-01 17:16:00</td>\n",
       "      <td>Ewallet</td>\n",
       "      <td>973.80</td>\n",
       "      <td>4.761905</td>\n",
       "      <td>48.6900</td>\n",
       "      <td>4.4</td>\n",
       "    </tr>\n",
       "    <tr>\n",
       "      <th>997</th>\n",
       "      <td>727021313</td>\n",
       "      <td>A</td>\n",
       "      <td>Yangon</td>\n",
       "      <td>Member</td>\n",
       "      <td>Male</td>\n",
       "      <td>Food and beverages</td>\n",
       "      <td>31.84</td>\n",
       "      <td>1</td>\n",
       "      <td>1.5920</td>\n",
       "      <td>33.4320</td>\n",
       "      <td>2019-02-09</td>\n",
       "      <td>1900-01-01 13:22:00</td>\n",
       "      <td>Cash</td>\n",
       "      <td>31.84</td>\n",
       "      <td>4.761905</td>\n",
       "      <td>1.5920</td>\n",
       "      <td>7.7</td>\n",
       "    </tr>\n",
       "    <tr>\n",
       "      <th>998</th>\n",
       "      <td>347562442</td>\n",
       "      <td>A</td>\n",
       "      <td>Yangon</td>\n",
       "      <td>Normal</td>\n",
       "      <td>Male</td>\n",
       "      <td>Home and lifestyle</td>\n",
       "      <td>65.82</td>\n",
       "      <td>1</td>\n",
       "      <td>3.2910</td>\n",
       "      <td>69.1110</td>\n",
       "      <td>2019-02-22</td>\n",
       "      <td>1900-01-01 15:33:00</td>\n",
       "      <td>Cash</td>\n",
       "      <td>65.82</td>\n",
       "      <td>4.761905</td>\n",
       "      <td>3.2910</td>\n",
       "      <td>4.1</td>\n",
       "    </tr>\n",
       "    <tr>\n",
       "      <th>999</th>\n",
       "      <td>849093807</td>\n",
       "      <td>A</td>\n",
       "      <td>Yangon</td>\n",
       "      <td>Member</td>\n",
       "      <td>Female</td>\n",
       "      <td>Fashion accessories</td>\n",
       "      <td>88.34</td>\n",
       "      <td>7</td>\n",
       "      <td>30.9190</td>\n",
       "      <td>649.2990</td>\n",
       "      <td>2019-02-18</td>\n",
       "      <td>1900-01-01 13:28:00</td>\n",
       "      <td>Cash</td>\n",
       "      <td>618.38</td>\n",
       "      <td>4.761905</td>\n",
       "      <td>30.9190</td>\n",
       "      <td>6.6</td>\n",
       "    </tr>\n",
       "  </tbody>\n",
       "</table>\n",
       "<p>1000 rows × 17 columns</p>\n",
       "</div>"
      ],
      "text/plain": [
       "            ID Branch       City Customer type  Gender  \\\n",
       "0    750678428      A     Yangon        Member  Female   \n",
       "1    226313081      C  Naypyitaw        Normal  Female   \n",
       "2    631413108      A     Yangon        Normal    Male   \n",
       "3    123191176      A     Yangon        Member    Male   \n",
       "4    373737910      A     Yangon        Normal    Male   \n",
       "..         ...    ...        ...           ...     ...   \n",
       "995  233675758      C  Naypyitaw        Normal    Male   \n",
       "996  303962227      B   Mandalay        Normal  Female   \n",
       "997  727021313      A     Yangon        Member    Male   \n",
       "998  347562442      A     Yangon        Normal    Male   \n",
       "999  849093807      A     Yangon        Member  Female   \n",
       "\n",
       "               Product line  Unit price  Quantity   Tax 5%      Total  \\\n",
       "0         Health and beauty       74.69         7  26.1415   548.9715   \n",
       "1    Electronic accessories       15.28         5   3.8200    80.2200   \n",
       "2        Home and lifestyle       46.33         7  16.2155   340.5255   \n",
       "3         Health and beauty       58.22         8  23.2880   489.0480   \n",
       "4         Sports and travel       86.31         7  30.2085   634.3785   \n",
       "..                      ...         ...       ...      ...        ...   \n",
       "995       Health and beauty       40.35         1   2.0175    42.3675   \n",
       "996      Home and lifestyle       97.38        10  48.6900  1022.4900   \n",
       "997      Food and beverages       31.84         1   1.5920    33.4320   \n",
       "998      Home and lifestyle       65.82         1   3.2910    69.1110   \n",
       "999     Fashion accessories       88.34         7  30.9190   649.2990   \n",
       "\n",
       "          Date                Time      Payment    cogs  \\\n",
       "0   2019-01-05 1900-01-01 13:08:00      Ewallet  522.83   \n",
       "1   2019-03-08 1900-01-01 10:29:00         Cash   76.40   \n",
       "2   2019-03-03 1900-01-01 13:23:00  Credit card  324.31   \n",
       "3   2019-01-27 1900-01-01 20:33:00      Ewallet  465.76   \n",
       "4   2019-02-08 1900-01-01 10:37:00      Ewallet  604.17   \n",
       "..         ...                 ...          ...     ...   \n",
       "995 2019-01-29 1900-01-01 13:46:00      Ewallet   40.35   \n",
       "996 2019-03-02 1900-01-01 17:16:00      Ewallet  973.80   \n",
       "997 2019-02-09 1900-01-01 13:22:00         Cash   31.84   \n",
       "998 2019-02-22 1900-01-01 15:33:00         Cash   65.82   \n",
       "999 2019-02-18 1900-01-01 13:28:00         Cash  618.38   \n",
       "\n",
       "     gross margin percentage  gross income  Rating  \n",
       "0                   4.761905       26.1415     9.1  \n",
       "1                   4.761905        3.8200     9.6  \n",
       "2                   4.761905       16.2155     7.4  \n",
       "3                   4.761905       23.2880     8.4  \n",
       "4                   4.761905       30.2085     5.3  \n",
       "..                       ...           ...     ...  \n",
       "995                 4.761905        2.0175     6.2  \n",
       "996                 4.761905       48.6900     4.4  \n",
       "997                 4.761905        1.5920     7.7  \n",
       "998                 4.761905        3.2910     4.1  \n",
       "999                 4.761905       30.9190     6.6  \n",
       "\n",
       "[1000 rows x 17 columns]"
      ]
     },
     "execution_count": 14,
     "metadata": {},
     "output_type": "execute_result"
    }
   ],
   "source": [
    "sales_df['ID'] = sales_df['ID'].str.replace('-','')\n",
    "sales_df"
   ]
  },
  {
   "cell_type": "markdown",
   "metadata": {},
   "source": [
    "## Quay lại bước khám phá dữ liệu "
   ]
  },
  {
   "cell_type": "markdown",
   "metadata": {},
   "source": [
    "### Với mỗi cột có kiểu dữ liệu dạng numeric, các giá trị được phân bố như thế nào? \n"
   ]
  },
  {
   "cell_type": "markdown",
   "metadata": {},
   "source": [
    "- Ta sẽ xếp các cột datetime vào nhóm numeric luôn. Hiện có 11 cột có vẻ là thuộc nhóm numeric: \"ID\", \"Unit price\", \"Quantity\", \"Tax 5%\", \"Total\", \"Date\", \"Time\", \"cogs\", \"gross margin percentage\", \"gross income\", \"Rating\". Tuy nhiên, cột \"ID\" thật ra là dạng categorical (vì là mã được đánh dưới dạng số). Như vậy, chỉ có 10 cột numeric là \"Unit price\", \"Quantity\", \"Tax 5%\", \"Total\", \"Date\", \"Time\", \"cogs\", \"gross margin percentage\", \"gross income\", \"Rating\". <br>\n",
    "<br>\n",
    "- Với các cột có kiểu dữ liệu numeric, ta sẽ tính:\n",
    "    - `missing_ratio`: tỉ lệ % (từ 0 đến 100) các giá trị thiếu của cột dữ liệu\n",
    "    - `min`: giá trị min của cột dữ liệu\n",
    "    - `max`: giá trị max của cột dữ liệu"
   ]
  },
  {
   "cell_type": "code",
   "execution_count": 15,
   "metadata": {
    "scrolled": false
   },
   "outputs": [
    {
     "data": {
      "text/html": [
       "<div>\n",
       "<style scoped>\n",
       "    .dataframe tbody tr th:only-of-type {\n",
       "        vertical-align: middle;\n",
       "    }\n",
       "\n",
       "    .dataframe tbody tr th {\n",
       "        vertical-align: top;\n",
       "    }\n",
       "\n",
       "    .dataframe thead th {\n",
       "        text-align: right;\n",
       "    }\n",
       "</style>\n",
       "<table border=\"1\" class=\"dataframe\">\n",
       "  <thead>\n",
       "    <tr style=\"text-align: right;\">\n",
       "      <th></th>\n",
       "      <th>Unit price</th>\n",
       "      <th>Quantity</th>\n",
       "      <th>Tax 5%</th>\n",
       "      <th>Total</th>\n",
       "      <th>Date</th>\n",
       "      <th>Time</th>\n",
       "      <th>cogs</th>\n",
       "      <th>gross margin percentage</th>\n",
       "      <th>gross income</th>\n",
       "      <th>Rating</th>\n",
       "    </tr>\n",
       "  </thead>\n",
       "  <tbody>\n",
       "    <tr>\n",
       "      <th>missing_ratio</th>\n",
       "      <td>0.00</td>\n",
       "      <td>0.0</td>\n",
       "      <td>0.0000</td>\n",
       "      <td>0.0000</td>\n",
       "      <td>0.0</td>\n",
       "      <td>0.0</td>\n",
       "      <td>0.00</td>\n",
       "      <td>0.000000</td>\n",
       "      <td>0.0000</td>\n",
       "      <td>0.0</td>\n",
       "    </tr>\n",
       "    <tr>\n",
       "      <th>min</th>\n",
       "      <td>10.08</td>\n",
       "      <td>1.0</td>\n",
       "      <td>0.5085</td>\n",
       "      <td>10.6785</td>\n",
       "      <td>2019-01-01 00:00:00</td>\n",
       "      <td>1900-01-01 10:00:00</td>\n",
       "      <td>10.17</td>\n",
       "      <td>4.761905</td>\n",
       "      <td>0.5085</td>\n",
       "      <td>4.0</td>\n",
       "    </tr>\n",
       "    <tr>\n",
       "      <th>max</th>\n",
       "      <td>99.96</td>\n",
       "      <td>10.0</td>\n",
       "      <td>49.6500</td>\n",
       "      <td>1042.6500</td>\n",
       "      <td>2019-03-30 00:00:00</td>\n",
       "      <td>1900-01-01 20:59:00</td>\n",
       "      <td>993.00</td>\n",
       "      <td>4.761905</td>\n",
       "      <td>49.6500</td>\n",
       "      <td>10.0</td>\n",
       "    </tr>\n",
       "  </tbody>\n",
       "</table>\n",
       "</div>"
      ],
      "text/plain": [
       "               Unit price  Quantity   Tax 5%      Total                 Date  \\\n",
       "missing_ratio        0.00       0.0   0.0000     0.0000                  0.0   \n",
       "min                 10.08       1.0   0.5085    10.6785  2019-01-01 00:00:00   \n",
       "max                 99.96      10.0  49.6500  1042.6500  2019-03-30 00:00:00   \n",
       "\n",
       "                              Time    cogs  gross margin percentage  \\\n",
       "missing_ratio                  0.0    0.00                 0.000000   \n",
       "min            1900-01-01 10:00:00   10.17                 4.761905   \n",
       "max            1900-01-01 20:59:00  993.00                 4.761905   \n",
       "\n",
       "               gross income  Rating  \n",
       "missing_ratio        0.0000     0.0  \n",
       "min                  0.5085     4.0  \n",
       "max                 49.6500    10.0  "
      ]
     },
     "execution_count": 15,
     "metadata": {},
     "output_type": "execute_result"
    }
   ],
   "source": [
    "def missing_ratio(s):\n",
    "    return s.isna().mean() * 100\n",
    "\n",
    "nume_col_profiles_df = sales_df[[\"Unit price\", \"Quantity\", \"Tax 5%\", \"Total\", \"Date\", \"Time\", \n",
    "                               \"cogs\", \"gross margin percentage\", \"gross income\", \n",
    "                               \"Rating\"]].agg([missing_ratio, pd.Series.min, pd.Series.max])\n",
    "nume_col_profiles_df"
   ]
  },
  {
   "cell_type": "markdown",
   "metadata": {},
   "source": [
    "Theo đó ta thấy các cột dữ liệu dạng numerical không bị thiếu ở bất kì vị trí nào và các giá trị min max cũng không có dấu hiệu bất thường"
   ]
  },
  {
   "cell_type": "markdown",
   "metadata": {},
   "source": [
    "### Với mỗi cột có kiểu dữ liệu dạng categorical, các giá trị được phân bố như thế nào? "
   ]
  },
  {
   "cell_type": "markdown",
   "metadata": {},
   "source": [
    "- `sales_df` có 7 cột categorical là \"ID\", \"Branch\", \"City\", \"Customer type\", \"Gender\", \"Product line\", \"Payment\". <br>\n",
    "<br>\n",
    "- Với các cột có kiểu dữ liệu categorical, ta sẽ tính:\n",
    "    - `missing_ratio`: tỉ lệ % (từ 0 đến 100) các giá trị thiếu của cột dữ liệu\n",
    "    - `num_diff_vals`: số lượng các giá trị khác nhau\n",
    "    - `diff_vals`: list các giá trị khác nhau"
   ]
  },
  {
   "cell_type": "code",
   "execution_count": 16,
   "metadata": {
    "deletable": false,
    "nbgrader": {
     "cell_type": "code",
     "checksum": "35296018f9eb13360b7c8c16620dd5e7",
     "grade": false,
     "grade_id": "cell-22007ecdcdfa0acc",
     "locked": false,
     "schema_version": 3,
     "solution": true,
     "task": false
    },
    "scrolled": true
   },
   "outputs": [
    {
     "data": {
      "text/html": [
       "<div>\n",
       "<style scoped>\n",
       "    .dataframe tbody tr th:only-of-type {\n",
       "        vertical-align: middle;\n",
       "    }\n",
       "\n",
       "    .dataframe tbody tr th {\n",
       "        vertical-align: top;\n",
       "    }\n",
       "\n",
       "    .dataframe thead th {\n",
       "        text-align: right;\n",
       "    }\n",
       "</style>\n",
       "<table border=\"1\" class=\"dataframe\">\n",
       "  <thead>\n",
       "    <tr style=\"text-align: right;\">\n",
       "      <th></th>\n",
       "      <th>ID</th>\n",
       "      <th>Branch</th>\n",
       "      <th>City</th>\n",
       "      <th>Customer type</th>\n",
       "      <th>Gender</th>\n",
       "      <th>Product line</th>\n",
       "      <th>Payment</th>\n",
       "    </tr>\n",
       "  </thead>\n",
       "  <tbody>\n",
       "    <tr>\n",
       "      <th>missing_ratio</th>\n",
       "      <td>0.0</td>\n",
       "      <td>0.0</td>\n",
       "      <td>0.0</td>\n",
       "      <td>0.0</td>\n",
       "      <td>0.0</td>\n",
       "      <td>0.0</td>\n",
       "      <td>0.0</td>\n",
       "    </tr>\n",
       "    <tr>\n",
       "      <th>num_diff_vals</th>\n",
       "      <td>1000</td>\n",
       "      <td>3</td>\n",
       "      <td>3</td>\n",
       "      <td>2</td>\n",
       "      <td>2</td>\n",
       "      <td>6</td>\n",
       "      <td>3</td>\n",
       "    </tr>\n",
       "    <tr>\n",
       "      <th>diff_vals</th>\n",
       "      <td>[750678428, 226313081, 631413108, 123191176, 3...</td>\n",
       "      <td>[A, C, B]</td>\n",
       "      <td>[Yangon, Naypyitaw, Mandalay]</td>\n",
       "      <td>[Member, Normal]</td>\n",
       "      <td>[Female, Male]</td>\n",
       "      <td>[Health and beauty, Electronic accessories, Ho...</td>\n",
       "      <td>[Ewallet, Cash, Credit card]</td>\n",
       "    </tr>\n",
       "  </tbody>\n",
       "</table>\n",
       "</div>"
      ],
      "text/plain": [
       "                                                              ID     Branch  \\\n",
       "missing_ratio                                                0.0        0.0   \n",
       "num_diff_vals                                               1000          3   \n",
       "diff_vals      [750678428, 226313081, 631413108, 123191176, 3...  [A, C, B]   \n",
       "\n",
       "                                        City     Customer type  \\\n",
       "missing_ratio                            0.0               0.0   \n",
       "num_diff_vals                              3                 2   \n",
       "diff_vals      [Yangon, Naypyitaw, Mandalay]  [Member, Normal]   \n",
       "\n",
       "                       Gender  \\\n",
       "missing_ratio             0.0   \n",
       "num_diff_vals               2   \n",
       "diff_vals      [Female, Male]   \n",
       "\n",
       "                                                    Product line  \\\n",
       "missing_ratio                                                0.0   \n",
       "num_diff_vals                                                  6   \n",
       "diff_vals      [Health and beauty, Electronic accessories, Ho...   \n",
       "\n",
       "                                    Payment  \n",
       "missing_ratio                           0.0  \n",
       "num_diff_vals                             3  \n",
       "diff_vals      [Ewallet, Cash, Credit card]  "
      ]
     },
     "execution_count": 16,
     "metadata": {},
     "output_type": "execute_result"
    }
   ],
   "source": [
    "def num_diff_vals(s):\n",
    "    return s.nunique()\n",
    "def diff_vals(s):\n",
    "    return s.dropna().unique()\n",
    "cate_col_profiles_df = sales_df[[\"ID\", \"Branch\", \"City\", \"Customer type\", \"Gender\", \"Product line\", \"Payment\"]].agg([missing_ratio, num_diff_vals, diff_vals])\n",
    "cate_col_profiles_df"
   ]
  },
  {
   "cell_type": "markdown",
   "metadata": {},
   "source": [
    "---"
   ]
  },
  {
   "cell_type": "markdown",
   "metadata": {},
   "source": [
    "## Phân tích dữ liệu sơ bộ và trả lời một vài câu hỏi đơn giản để hiểu rõ hơn về tập dữ liệu"
   ]
  },
  {
   "cell_type": "markdown",
   "metadata": {},
   "source": [
    "### Câu hỏi đơn giản 1"
   ]
  },
  {
   "cell_type": "markdown",
   "metadata": {},
   "source": [
    "**1. Chúng ta hay nghĩ rằng, những người phụ nữ thường hay đi mua sắm nhiều hơn hẳn đàn ông. Liệu rằng suy nghĩ đó có đúng không?**"
   ]
  },
  {
   "cell_type": "code",
   "execution_count": 17,
   "metadata": {},
   "outputs": [
    {
     "data": {
      "text/plain": [
       "2"
      ]
     },
     "execution_count": 17,
     "metadata": {},
     "output_type": "execute_result"
    }
   ],
   "source": [
    "sales_df['Gender'].nunique()"
   ]
  },
  {
   "cell_type": "code",
   "execution_count": 18,
   "metadata": {},
   "outputs": [
    {
     "data": {
      "text/plain": [
       "array(['Female', 'Male'], dtype=object)"
      ]
     },
     "execution_count": 18,
     "metadata": {},
     "output_type": "execute_result"
    }
   ],
   "source": [
    "sales_df['Gender'].unique()"
   ]
  },
  {
   "cell_type": "code",
   "execution_count": 19,
   "metadata": {},
   "outputs": [
    {
     "data": {
      "image/png": "[encoded data removed]",
      "text/plain": [
       "<Figure size 432x288 with 1 Axes>"
      ]
     },
     "metadata": {},
     "output_type": "display_data"
    }
   ],
   "source": [
    "sns.set(style=\"darkgrid\")       \n",
    "genderCount  = sns.countplot(x=\"Gender\", data =sales_df).set_title(\"Gender_Count\")"
   ]
  },
  {
   "cell_type": "markdown",
   "metadata": {},
   "source": [
    "=> Theo như sự phân tích về dữ liệu cột `Gender` trong tập dữ liệu ở file `sales.csv` ở trên, có vẻ như dự đoán của chúng ta là không hoàn toàn đúng khi số lượng 2 nhóm giới tính \"Male\" và \"Female\" mua hàng ở các chi nhánh của siêu thị gần như là tương đương nhau."
   ]
  },
  {
   "cell_type": "markdown",
   "metadata": {},
   "source": [
    "### Câu hỏi đơn giản 2"
   ]
  },
  {
   "cell_type": "markdown",
   "metadata": {},
   "source": [
    "**2. Như đã kiểm tra, siêu thị chia khách hàng thành 2 loại là `Member`: `Khách hàng thành viên` và `Mormal`: `Khách hàng thường`. Vậy số lượng giữa 2 loại khách hàng này là bao nhiêu, có chênh lệch lắm không?**"
   ]
  },
  {
   "cell_type": "code",
   "execution_count": 20,
   "metadata": {},
   "outputs": [
    {
     "data": {
      "text/plain": [
       "2"
      ]
     },
     "execution_count": 20,
     "metadata": {},
     "output_type": "execute_result"
    }
   ],
   "source": [
    "sales_df['Customer type'].nunique()"
   ]
  },
  {
   "cell_type": "code",
   "execution_count": 21,
   "metadata": {},
   "outputs": [
    {
     "data": {
      "text/plain": [
       "array(['Member', 'Normal'], dtype=object)"
      ]
     },
     "execution_count": 21,
     "metadata": {},
     "output_type": "execute_result"
    }
   ],
   "source": [
    "sales_df['Customer type'].unique()"
   ]
  },
  {
   "cell_type": "code",
   "execution_count": 22,
   "metadata": {},
   "outputs": [
    {
     "data": {
      "text/plain": [
       "Text(0.5, 1.0, 'Customer Type')"
      ]
     },
     "execution_count": 22,
     "metadata": {},
     "output_type": "execute_result"
    },
    {
     "data": {
      "image/png": "[encoded data removed]",
      "text/plain": [
       "<Figure size 432x288 with 1 Axes>"
      ]
     },
     "metadata": {},
     "output_type": "display_data"
    }
   ],
   "source": [
    " sns.countplot(x=\"Customer type\", data =sales_df).set_title(\"Customer Type\") "
   ]
  },
  {
   "cell_type": "markdown",
   "metadata": {},
   "source": [
    "=> Theo như phân tích ở trên, số lượng giữa 2 loại khách hàng này gần như là tương đương nhau, không hề có sự chênh lệch. Nhiều khả năng những đặc quyền của \"Khách hàng thành viên\" là không quá đáng kể."
   ]
  },
  {
   "cell_type": "markdown",
   "metadata": {},
   "source": [
    "### Câu hỏi đơn giản 3"
   ]
  },
  {
   "cell_type": "markdown",
   "metadata": {},
   "source": [
    "**3. Phương thức thanh toán nào được khách hàng ưu tiên sử dụng khi thanh toán hóa đơn nhất, có sự chênh lệch rõ ràng nào giữa các phương phức không?**"
   ]
  },
  {
   "cell_type": "code",
   "execution_count": 23,
   "metadata": {},
   "outputs": [
    {
     "data": {
      "text/plain": [
       "3"
      ]
     },
     "execution_count": 23,
     "metadata": {},
     "output_type": "execute_result"
    }
   ],
   "source": [
    "sales_df['Payment'].nunique()"
   ]
  },
  {
   "cell_type": "code",
   "execution_count": 24,
   "metadata": {},
   "outputs": [
    {
     "data": {
      "text/plain": [
       "array(['Ewallet', 'Cash', 'Credit card'], dtype=object)"
      ]
     },
     "execution_count": 24,
     "metadata": {},
     "output_type": "execute_result"
    }
   ],
   "source": [
    "sales_df['Payment'].unique()"
   ]
  },
  {
   "cell_type": "code",
   "execution_count": 25,
   "metadata": {},
   "outputs": [
    {
     "data": {
      "text/plain": [
       "Text(0.5, 1.0, 'Payment Channel')"
      ]
     },
     "execution_count": 25,
     "metadata": {},
     "output_type": "execute_result"
    },
    {
     "data": {
      "image/png": "[encoded data removed]",
      "text/plain": [
       "<Figure size 432x288 with 1 Axes>"
      ]
     },
     "metadata": {},
     "output_type": "display_data"
    }
   ],
   "source": [
    " sns.countplot(x=\"Payment\", data =sales_df).set_title(\"Payment Channel\") "
   ]
  },
  {
   "cell_type": "markdown",
   "metadata": {},
   "source": [
    "=> Dường như việc sử dụng thẻ tín dụng để thanh toán là chưa được khách hàng áp dụng nhiều, có thể là do số đông khách hàng chưa có nhu cầu làm thẻ tín dụng. Trong khi đó, phương thức thanh toán tiền mặt và sử dụng ví điện tử phần nào được áp dụng nhiều hơn hẳn."
   ]
  },
  {
   "cell_type": "markdown",
   "metadata": {},
   "source": [
    "### Câu hỏi đơn giản 4"
   ]
  },
  {
   "cell_type": "markdown",
   "metadata": {},
   "source": [
    "**4. Các chi nhánh A, B và C đều thuộc sở hữu của siêu thị. Liệu rằng cả 3 chi nhánh sẽ có dịch vụ, sản phẩm tốt giống nhau và sẽ có lượt \"ratings\" từ khách hàng là tương đương nhau không?**"
   ]
  },
  {
   "cell_type": "code",
   "execution_count": 26,
   "metadata": {},
   "outputs": [
    {
     "data": {
      "text/plain": [
       "3"
      ]
     },
     "execution_count": 26,
     "metadata": {},
     "output_type": "execute_result"
    }
   ],
   "source": [
    "sales_df['Branch'].nunique()"
   ]
  },
  {
   "cell_type": "code",
   "execution_count": 27,
   "metadata": {},
   "outputs": [
    {
     "data": {
      "text/plain": [
       "array(['A', 'C', 'B'], dtype=object)"
      ]
     },
     "execution_count": 27,
     "metadata": {},
     "output_type": "execute_result"
    }
   ],
   "source": [
    "sales_df['Branch'].unique()"
   ]
  },
  {
   "cell_type": "code",
   "execution_count": 28,
   "metadata": {
    "scrolled": true
   },
   "outputs": [
    {
     "data": {
      "text/plain": [
       "Text(0.5, 1.0, 'Ratings by Branch')"
      ]
     },
     "execution_count": 28,
     "metadata": {},
     "output_type": "execute_result"
    },
    {
     "data": {
      "image/png": "[encoded data removed]",
      "text/plain": [
       "<Figure size 432x288 with 1 Axes>"
      ]
     },
     "metadata": {},
     "output_type": "display_data"
    }
   ],
   "source": [
    "sns.boxplot(x=\"Branch\", y = \"Rating\" ,data =sales_df).set_title(\"Ratings by Branch\")"
   ]
  },
  {
   "cell_type": "markdown",
   "metadata": {},
   "source": [
    "=> Vì một lí do nào đó, chi nhánh B có lượt `ratings` khá thấp và thấp nhất trong 3 chi nhánh trong khi chi nhánh A và chi nhánh C có lượt \"ratings\" gần như là tương đương nhau. Siêu thị cần xem xét lại chất lượng dịch vụ cũng như chất lượng sản phẩm ở chi nhánh này (B)"
   ]
  },
  {
   "cell_type": "markdown",
   "metadata": {},
   "source": [
    "### Câu hỏi đơn giản 5"
   ]
  },
  {
   "cell_type": "markdown",
   "metadata": {},
   "source": [
    "**5. Trong các dòng sản phẩm (`Product line`) được bán ra từ siêu thị, dòng sản phẩm nào là được bán chạy nhất và dòng sản phẩm nào là ít được bán nhất? Có sự chênh lệch nhiều giữa số lượng được bán ra giữa các dòng sản phẩm không?**"
   ]
  },
  {
   "cell_type": "code",
   "execution_count": 29,
   "metadata": {},
   "outputs": [
    {
     "data": {
      "text/plain": [
       "6"
      ]
     },
     "execution_count": 29,
     "metadata": {},
     "output_type": "execute_result"
    }
   ],
   "source": [
    "sales_df['Product line'].nunique()"
   ]
  },
  {
   "cell_type": "code",
   "execution_count": 30,
   "metadata": {},
   "outputs": [
    {
     "data": {
      "text/plain": [
       "array(['Health and beauty', 'Electronic accessories',\n",
       "       'Home and lifestyle', 'Sports and travel', 'Food and beverages',\n",
       "       'Fashion accessories'], dtype=object)"
      ]
     },
     "execution_count": 30,
     "metadata": {},
     "output_type": "execute_result"
    }
   ],
   "source": [
    "sales_df['Product line'].unique()"
   ]
  },
  {
   "cell_type": "code",
   "execution_count": 31,
   "metadata": {},
   "outputs": [
    {
     "data": {
      "text/plain": [
       "<AxesSubplot:xlabel='count', ylabel='Product line'>"
      ]
     },
     "execution_count": 31,
     "metadata": {},
     "output_type": "execute_result"
    },
    {
     "data": {
      "image/png": "[encoded data removed]",
      "text/plain": [
       "<Figure size 432x288 with 1 Axes>"
      ]
     },
     "metadata": {},
     "output_type": "display_data"
    }
   ],
   "source": [
    "sns.countplot(y = 'Product line', data=sales_df, order = sales_df['Product line'].value_counts().index)"
   ]
  },
  {
   "cell_type": "markdown",
   "metadata": {},
   "source": [
    "Như đã phân tích phía bên, dòng sản phẩm \"Fashion accessories\" được bán chạy nhất và dòng sản phẩm \"Health and beauty\" ít được bán chạy nhất. Nhìn chung, số lượng được bán ra giữa các dòng sản phẩm là không chệch quá nhiều."
   ]
  },
  {
   "cell_type": "markdown",
   "metadata": {},
   "source": [
    "## Đưa ra các câu hỏi chuyên sâu cần trả lời"
   ]
  },
  {
   "cell_type": "markdown",
   "metadata": {},
   "source": [
    "### Câu hỏi 1:"
   ]
  },
  {
   "cell_type": "markdown",
   "metadata": {},
   "source": [
    "Từ kết quả của việc trả lời [Câu hỏi đơn giản 4](#Câu-hỏi-đơn-giản-4), ta nhận được một kết quả hơi ngoài dự đoán rằng: \"chi nhánh B có lượt ratings từ khách hàng là thấp nhất và có chênh lệch đáng kể so với 2 chi nhánh còn lại\" trong khi chúng thuộc một siêu thị. Vậy lý do là gì? <br>\n",
    "=> Một vài lí do được nghĩ đến như: `product quality` (chất lượng sản phẩm), `service quality` (chất lượng dịch vụ), ... nhưng trong tập dữ liệu của file 'sales.csv' chỉ cho phép xét đến `product quality` (dựa vào lượt `ratings` của từng `Product line`)"
   ]
  },
  {
   "cell_type": "markdown",
   "metadata": {},
   "source": [
    "**Lợi ích**: nếu tìm ra nguyên nhân làm cho số lượt ratings của chi nhánh B thấp (thường thì ratings thấp thì chi nhánh này sẽ kinh doanh không lời hoặc chỉ lời ít vì khách hàng sẽ ít tới mua sắm) sẽ giúp siêu thị tránh việc mất cân bằng kinh doanh giữa các chi nhánh, tránh được việc \"sinh đầu này đắp đầu kia\", làm siêu thị kinh doanh không được ổn định."
   ]
  },
  {
   "cell_type": "markdown",
   "metadata": {},
   "source": [
    "Ta lần lượt làm các bước sau:\n",
    "- Bước 1: Tạo `banch_list` để chứa danh sách các chi nhánh, `prod_line_order` là các nhãn index (là các unique `Product line`) \n",
    "- Bước 2: Vẽ biểu đồ dạng cột có trục hoành là các `Product line` (các dòng sản phẩm), mỗi dòng sản phẩm có 3 cột biểu hiện cho số lượng đơn hàng của 3 branch A, B, C, trục tung là số đơn hàng.\n",
    "- Bước 3: Vẽ biểu đồ thể hiện được số lượt `Rating` trung bình của từng dòng sản phẩm\n",
    "- Bước 4: Dựa vào sự tương quan giữa 2 đồ thị để nhận xét và rút ra kết luận"
   ]
  },
  {
   "cell_type": "markdown",
   "metadata": {},
   "source": [
    "Code bước 1"
   ]
  },
  {
   "cell_type": "code",
   "execution_count": 32,
   "metadata": {},
   "outputs": [],
   "source": [
    "branch_list = sales_df['Branch'].unique()\n",
    "prod_line_order = sales_df['Product line'].value_counts().index"
   ]
  },
  {
   "cell_type": "markdown",
   "metadata": {},
   "source": [
    "Code bước 2"
   ]
  },
  {
   "cell_type": "code",
   "execution_count": 33,
   "metadata": {},
   "outputs": [
    {
     "data": {
      "text/plain": [
       "<matplotlib.legend.Legend at 0x21d1360d250>"
      ]
     },
     "execution_count": 33,
     "metadata": {},
     "output_type": "execute_result"
    },
    {
     "data": {
      "image/png": "[encoded data removed]",
      "text/plain": [
       "<Figure size 432x288 with 1 Axes>"
      ]
     },
     "metadata": {},
     "output_type": "display_data"
    }
   ],
   "source": [
    "fig = plt.figure()\n",
    "ax1 = sns.countplot(x='Product line', hue='Branch', data=sales_df, order=prod_line_order, \n",
    "              hue_order=branch_list)\n",
    "ax1.set_xticklabels(ax1.get_xticklabels(), rotation=90)\n",
    "plt.legend(title_fontsize='20')"
   ]
  },
  {
   "cell_type": "markdown",
   "metadata": {},
   "source": [
    "Code bước 3"
   ]
  },
  {
   "cell_type": "code",
   "execution_count": 34,
   "metadata": {},
   "outputs": [
    {
     "data": {
      "text/plain": [
       "<AxesSubplot:xlabel='Rating', ylabel='Product line'>"
      ]
     },
     "execution_count": 34,
     "metadata": {},
     "output_type": "execute_result"
    },
    {
     "data": {
      "image/png": "[encoded data removed]",
      "text/plain": [
       "<Figure size 432x288 with 1 Axes>"
      ]
     },
     "metadata": {},
     "output_type": "display_data"
    }
   ],
   "source": [
    "sns.boxenplot(y = 'Product line', x = 'Rating', data=sales_df)"
   ]
  },
  {
   "cell_type": "markdown",
   "metadata": {},
   "source": [
    "Code bước 4"
   ]
  },
  {
   "cell_type": "markdown",
   "metadata": {},
   "source": [
    "Ở đồ thị 2 ta thấy dòng sản phẩm `Food and beverages` có lượt ratings cao nhất, còn `Sport and travel` có lượt ratings là thấp nhất, dựa vào đồ thị 1 ta thấy rõ rằng ở dòng sản phẩm `Food and beverages`, chi nhánh B lại bán được ít nhất và ở dòng sản phẩm `Sport and travel`, chi nhánh B lại bán được nhiều nhất\n",
    "=> Vậy nhiều khả năng là như chúng ta dự đoán, chi nhánh B bán nhiều sản phẩm có `Rating` thấp nhưng lại bán ít sản phẩm có `Ratings` cao."
   ]
  },
  {
   "cell_type": "markdown",
   "metadata": {},
   "source": [
    "### Câu hỏi 2"
   ]
  },
  {
   "cell_type": "markdown",
   "metadata": {},
   "source": [
    "Giờ nào là tốt nhất cho doanh số bán hàng tổng thể? Và liệu vào khung giờ đó (giờ tốt nhất), các mặt hàng đều bán chạy hết hay không?"
   ]
  },
  {
   "cell_type": "markdown",
   "metadata": {},
   "source": [
    "**Lợi ích**: nếu biết được khung giờ nào là tốt nhất cho doanh số bán hàng tổng thể, siêu thị có thể cân nhắc cho nhiều nhân viên làm việc hơn (vì vào những giờ cao điểm thì khách hàng mua sắm rất nhiều => cần nhiều nhân viên giới thiệu & bán hàng, nhân viên thu ngân, ...) => giúp siêu thị tránh việc trì trệ trong việc giới thiệu các mặt hàng mới của cũng như việc mua hàng và thanh toán của khách hàng bị lâu li, và cũng giúp siêu thị sử dụng nhân lực một cách hợp lí. "
   ]
  },
  {
   "cell_type": "markdown",
   "metadata": {},
   "source": [
    "Ta lần lượt làm các bước sau:\n",
    "- Bước 1: Thêm cột `Hour` vào dataframe `sales_df` để việc trả lời câu hỏi trở nên thuận tiện\n",
    "- Bước 2: Lấy danh sách toàn bộ các khung giờ khác nhau (tăng dần) từ Series `sales_df['Hour']` rồi lưu vào list `unique_hour_sorted`\n",
    "- Bước 3: Vẽ biểu đồ đường có trục hoành là các khung giờ trong `unique_hour_sorted` và trục tung là tổng doanh thu tổng thể của từng khung giờ\n",
    "------------------------------------\n",
    "- Bước 4: Tạo một datarame mới có các cột là `Hour` và các dòng sản phẩm, từng dòng dữ liệu là khung giờ kèm theo doanh thu của từng dòng sản phẩm và lưu vào `hourly_sales_each_productline`\n",
    "- Bước 5: Vẽ biểu đồ đường, mỗi đường thể hiển sự thay đổi về doanh thu của từng dòng sản phẩm theo từng khung giờ, trục hoành các khung giờ mà siêu thị mở cửa, trục tung là doanh thu của từng dòng sản phẩm theo từng khung giờ."
   ]
  },
  {
   "cell_type": "markdown",
   "metadata": {},
   "source": [
    "Code bước 1:"
   ]
  },
  {
   "cell_type": "code",
   "execution_count": 35,
   "metadata": {},
   "outputs": [],
   "source": [
    "sales_df['Hour'] = (sales_df['Time']).dt.hour"
   ]
  },
  {
   "cell_type": "code",
   "execution_count": 36,
   "metadata": {},
   "outputs": [
    {
     "data": {
      "text/html": [
       "<div>\n",
       "<style scoped>\n",
       "    .dataframe tbody tr th:only-of-type {\n",
       "        vertical-align: middle;\n",
       "    }\n",
       "\n",
       "    .dataframe tbody tr th {\n",
       "        vertical-align: top;\n",
       "    }\n",
       "\n",
       "    .dataframe thead th {\n",
       "        text-align: right;\n",
       "    }\n",
       "</style>\n",
       "<table border=\"1\" class=\"dataframe\">\n",
       "  <thead>\n",
       "    <tr style=\"text-align: right;\">\n",
       "      <th></th>\n",
       "      <th>ID</th>\n",
       "      <th>Branch</th>\n",
       "      <th>City</th>\n",
       "      <th>Customer type</th>\n",
       "      <th>Gender</th>\n",
       "      <th>Product line</th>\n",
       "      <th>Unit price</th>\n",
       "      <th>Quantity</th>\n",
       "      <th>Tax 5%</th>\n",
       "      <th>Total</th>\n",
       "      <th>Date</th>\n",
       "      <th>Time</th>\n",
       "      <th>Payment</th>\n",
       "      <th>cogs</th>\n",
       "      <th>gross margin percentage</th>\n",
       "      <th>gross income</th>\n",
       "      <th>Rating</th>\n",
       "      <th>Hour</th>\n",
       "    </tr>\n",
       "  </thead>\n",
       "  <tbody>\n",
       "    <tr>\n",
       "      <th>0</th>\n",
       "      <td>750678428</td>\n",
       "      <td>A</td>\n",
       "      <td>Yangon</td>\n",
       "      <td>Member</td>\n",
       "      <td>Female</td>\n",
       "      <td>Health and beauty</td>\n",
       "      <td>74.69</td>\n",
       "      <td>7</td>\n",
       "      <td>26.1415</td>\n",
       "      <td>548.9715</td>\n",
       "      <td>2019-01-05</td>\n",
       "      <td>1900-01-01 13:08:00</td>\n",
       "      <td>Ewallet</td>\n",
       "      <td>522.83</td>\n",
       "      <td>4.761905</td>\n",
       "      <td>26.1415</td>\n",
       "      <td>9.1</td>\n",
       "      <td>13</td>\n",
       "    </tr>\n",
       "    <tr>\n",
       "      <th>1</th>\n",
       "      <td>226313081</td>\n",
       "      <td>C</td>\n",
       "      <td>Naypyitaw</td>\n",
       "      <td>Normal</td>\n",
       "      <td>Female</td>\n",
       "      <td>Electronic accessories</td>\n",
       "      <td>15.28</td>\n",
       "      <td>5</td>\n",
       "      <td>3.8200</td>\n",
       "      <td>80.2200</td>\n",
       "      <td>2019-03-08</td>\n",
       "      <td>1900-01-01 10:29:00</td>\n",
       "      <td>Cash</td>\n",
       "      <td>76.40</td>\n",
       "      <td>4.761905</td>\n",
       "      <td>3.8200</td>\n",
       "      <td>9.6</td>\n",
       "      <td>10</td>\n",
       "    </tr>\n",
       "    <tr>\n",
       "      <th>2</th>\n",
       "      <td>631413108</td>\n",
       "      <td>A</td>\n",
       "      <td>Yangon</td>\n",
       "      <td>Normal</td>\n",
       "      <td>Male</td>\n",
       "      <td>Home and lifestyle</td>\n",
       "      <td>46.33</td>\n",
       "      <td>7</td>\n",
       "      <td>16.2155</td>\n",
       "      <td>340.5255</td>\n",
       "      <td>2019-03-03</td>\n",
       "      <td>1900-01-01 13:23:00</td>\n",
       "      <td>Credit card</td>\n",
       "      <td>324.31</td>\n",
       "      <td>4.761905</td>\n",
       "      <td>16.2155</td>\n",
       "      <td>7.4</td>\n",
       "      <td>13</td>\n",
       "    </tr>\n",
       "    <tr>\n",
       "      <th>3</th>\n",
       "      <td>123191176</td>\n",
       "      <td>A</td>\n",
       "      <td>Yangon</td>\n",
       "      <td>Member</td>\n",
       "      <td>Male</td>\n",
       "      <td>Health and beauty</td>\n",
       "      <td>58.22</td>\n",
       "      <td>8</td>\n",
       "      <td>23.2880</td>\n",
       "      <td>489.0480</td>\n",
       "      <td>2019-01-27</td>\n",
       "      <td>1900-01-01 20:33:00</td>\n",
       "      <td>Ewallet</td>\n",
       "      <td>465.76</td>\n",
       "      <td>4.761905</td>\n",
       "      <td>23.2880</td>\n",
       "      <td>8.4</td>\n",
       "      <td>20</td>\n",
       "    </tr>\n",
       "    <tr>\n",
       "      <th>4</th>\n",
       "      <td>373737910</td>\n",
       "      <td>A</td>\n",
       "      <td>Yangon</td>\n",
       "      <td>Normal</td>\n",
       "      <td>Male</td>\n",
       "      <td>Sports and travel</td>\n",
       "      <td>86.31</td>\n",
       "      <td>7</td>\n",
       "      <td>30.2085</td>\n",
       "      <td>634.3785</td>\n",
       "      <td>2019-02-08</td>\n",
       "      <td>1900-01-01 10:37:00</td>\n",
       "      <td>Ewallet</td>\n",
       "      <td>604.17</td>\n",
       "      <td>4.761905</td>\n",
       "      <td>30.2085</td>\n",
       "      <td>5.3</td>\n",
       "      <td>10</td>\n",
       "    </tr>\n",
       "    <tr>\n",
       "      <th>...</th>\n",
       "      <td>...</td>\n",
       "      <td>...</td>\n",
       "      <td>...</td>\n",
       "      <td>...</td>\n",
       "      <td>...</td>\n",
       "      <td>...</td>\n",
       "      <td>...</td>\n",
       "      <td>...</td>\n",
       "      <td>...</td>\n",
       "      <td>...</td>\n",
       "      <td>...</td>\n",
       "      <td>...</td>\n",
       "      <td>...</td>\n",
       "      <td>...</td>\n",
       "      <td>...</td>\n",
       "      <td>...</td>\n",
       "      <td>...</td>\n",
       "      <td>...</td>\n",
       "    </tr>\n",
       "    <tr>\n",
       "      <th>995</th>\n",
       "      <td>233675758</td>\n",
       "      <td>C</td>\n",
       "      <td>Naypyitaw</td>\n",
       "      <td>Normal</td>\n",
       "      <td>Male</td>\n",
       "      <td>Health and beauty</td>\n",
       "      <td>40.35</td>\n",
       "      <td>1</td>\n",
       "      <td>2.0175</td>\n",
       "      <td>42.3675</td>\n",
       "      <td>2019-01-29</td>\n",
       "      <td>1900-01-01 13:46:00</td>\n",
       "      <td>Ewallet</td>\n",
       "      <td>40.35</td>\n",
       "      <td>4.761905</td>\n",
       "      <td>2.0175</td>\n",
       "      <td>6.2</td>\n",
       "      <td>13</td>\n",
       "    </tr>\n",
       "    <tr>\n",
       "      <th>996</th>\n",
       "      <td>303962227</td>\n",
       "      <td>B</td>\n",
       "      <td>Mandalay</td>\n",
       "      <td>Normal</td>\n",
       "      <td>Female</td>\n",
       "      <td>Home and lifestyle</td>\n",
       "      <td>97.38</td>\n",
       "      <td>10</td>\n",
       "      <td>48.6900</td>\n",
       "      <td>1022.4900</td>\n",
       "      <td>2019-03-02</td>\n",
       "      <td>1900-01-01 17:16:00</td>\n",
       "      <td>Ewallet</td>\n",
       "      <td>973.80</td>\n",
       "      <td>4.761905</td>\n",
       "      <td>48.6900</td>\n",
       "      <td>4.4</td>\n",
       "      <td>17</td>\n",
       "    </tr>\n",
       "    <tr>\n",
       "      <th>997</th>\n",
       "      <td>727021313</td>\n",
       "      <td>A</td>\n",
       "      <td>Yangon</td>\n",
       "      <td>Member</td>\n",
       "      <td>Male</td>\n",
       "      <td>Food and beverages</td>\n",
       "      <td>31.84</td>\n",
       "      <td>1</td>\n",
       "      <td>1.5920</td>\n",
       "      <td>33.4320</td>\n",
       "      <td>2019-02-09</td>\n",
       "      <td>1900-01-01 13:22:00</td>\n",
       "      <td>Cash</td>\n",
       "      <td>31.84</td>\n",
       "      <td>4.761905</td>\n",
       "      <td>1.5920</td>\n",
       "      <td>7.7</td>\n",
       "      <td>13</td>\n",
       "    </tr>\n",
       "    <tr>\n",
       "      <th>998</th>\n",
       "      <td>347562442</td>\n",
       "      <td>A</td>\n",
       "      <td>Yangon</td>\n",
       "      <td>Normal</td>\n",
       "      <td>Male</td>\n",
       "      <td>Home and lifestyle</td>\n",
       "      <td>65.82</td>\n",
       "      <td>1</td>\n",
       "      <td>3.2910</td>\n",
       "      <td>69.1110</td>\n",
       "      <td>2019-02-22</td>\n",
       "      <td>1900-01-01 15:33:00</td>\n",
       "      <td>Cash</td>\n",
       "      <td>65.82</td>\n",
       "      <td>4.761905</td>\n",
       "      <td>3.2910</td>\n",
       "      <td>4.1</td>\n",
       "      <td>15</td>\n",
       "    </tr>\n",
       "    <tr>\n",
       "      <th>999</th>\n",
       "      <td>849093807</td>\n",
       "      <td>A</td>\n",
       "      <td>Yangon</td>\n",
       "      <td>Member</td>\n",
       "      <td>Female</td>\n",
       "      <td>Fashion accessories</td>\n",
       "      <td>88.34</td>\n",
       "      <td>7</td>\n",
       "      <td>30.9190</td>\n",
       "      <td>649.2990</td>\n",
       "      <td>2019-02-18</td>\n",
       "      <td>1900-01-01 13:28:00</td>\n",
       "      <td>Cash</td>\n",
       "      <td>618.38</td>\n",
       "      <td>4.761905</td>\n",
       "      <td>30.9190</td>\n",
       "      <td>6.6</td>\n",
       "      <td>13</td>\n",
       "    </tr>\n",
       "  </tbody>\n",
       "</table>\n",
       "<p>1000 rows × 18 columns</p>\n",
       "</div>"
      ],
      "text/plain": [
       "            ID Branch       City Customer type  Gender  \\\n",
       "0    750678428      A     Yangon        Member  Female   \n",
       "1    226313081      C  Naypyitaw        Normal  Female   \n",
       "2    631413108      A     Yangon        Normal    Male   \n",
       "3    123191176      A     Yangon        Member    Male   \n",
       "4    373737910      A     Yangon        Normal    Male   \n",
       "..         ...    ...        ...           ...     ...   \n",
       "995  233675758      C  Naypyitaw        Normal    Male   \n",
       "996  303962227      B   Mandalay        Normal  Female   \n",
       "997  727021313      A     Yangon        Member    Male   \n",
       "998  347562442      A     Yangon        Normal    Male   \n",
       "999  849093807      A     Yangon        Member  Female   \n",
       "\n",
       "               Product line  Unit price  Quantity   Tax 5%      Total  \\\n",
       "0         Health and beauty       74.69         7  26.1415   548.9715   \n",
       "1    Electronic accessories       15.28         5   3.8200    80.2200   \n",
       "2        Home and lifestyle       46.33         7  16.2155   340.5255   \n",
       "3         Health and beauty       58.22         8  23.2880   489.0480   \n",
       "4         Sports and travel       86.31         7  30.2085   634.3785   \n",
       "..                      ...         ...       ...      ...        ...   \n",
       "995       Health and beauty       40.35         1   2.0175    42.3675   \n",
       "996      Home and lifestyle       97.38        10  48.6900  1022.4900   \n",
       "997      Food and beverages       31.84         1   1.5920    33.4320   \n",
       "998      Home and lifestyle       65.82         1   3.2910    69.1110   \n",
       "999     Fashion accessories       88.34         7  30.9190   649.2990   \n",
       "\n",
       "          Date                Time      Payment    cogs  \\\n",
       "0   2019-01-05 1900-01-01 13:08:00      Ewallet  522.83   \n",
       "1   2019-03-08 1900-01-01 10:29:00         Cash   76.40   \n",
       "2   2019-03-03 1900-01-01 13:23:00  Credit card  324.31   \n",
       "3   2019-01-27 1900-01-01 20:33:00      Ewallet  465.76   \n",
       "4   2019-02-08 1900-01-01 10:37:00      Ewallet  604.17   \n",
       "..         ...                 ...          ...     ...   \n",
       "995 2019-01-29 1900-01-01 13:46:00      Ewallet   40.35   \n",
       "996 2019-03-02 1900-01-01 17:16:00      Ewallet  973.80   \n",
       "997 2019-02-09 1900-01-01 13:22:00         Cash   31.84   \n",
       "998 2019-02-22 1900-01-01 15:33:00         Cash   65.82   \n",
       "999 2019-02-18 1900-01-01 13:28:00         Cash  618.38   \n",
       "\n",
       "     gross margin percentage  gross income  Rating  Hour  \n",
       "0                   4.761905       26.1415     9.1    13  \n",
       "1                   4.761905        3.8200     9.6    10  \n",
       "2                   4.761905       16.2155     7.4    13  \n",
       "3                   4.761905       23.2880     8.4    20  \n",
       "4                   4.761905       30.2085     5.3    10  \n",
       "..                       ...           ...     ...   ...  \n",
       "995                 4.761905        2.0175     6.2    13  \n",
       "996                 4.761905       48.6900     4.4    17  \n",
       "997                 4.761905        1.5920     7.7    13  \n",
       "998                 4.761905        3.2910     4.1    15  \n",
       "999                 4.761905       30.9190     6.6    13  \n",
       "\n",
       "[1000 rows x 18 columns]"
      ]
     },
     "execution_count": 36,
     "metadata": {},
     "output_type": "execute_result"
    }
   ],
   "source": [
    "sales_df"
   ]
  },
  {
   "cell_type": "markdown",
   "metadata": {},
   "source": [
    "Code bước 2:"
   ]
  },
  {
   "cell_type": "code",
   "execution_count": 37,
   "metadata": {},
   "outputs": [],
   "source": [
    "unique_hour_sorted = [pair for pair, df in sales_df.groupby(['Hour'])]"
   ]
  },
  {
   "cell_type": "code",
   "execution_count": 38,
   "metadata": {},
   "outputs": [
    {
     "data": {
      "text/plain": [
       "[10, 11, 12, 13, 14, 15, 16, 17, 18, 19, 20]"
      ]
     },
     "execution_count": 38,
     "metadata": {},
     "output_type": "execute_result"
    }
   ],
   "source": [
    "unique_hour_sorted"
   ]
  },
  {
   "cell_type": "markdown",
   "metadata": {},
   "source": [
    "Code bước 3:"
   ]
  },
  {
   "cell_type": "code",
   "execution_count": 39,
   "metadata": {},
   "outputs": [
    {
     "data": {
      "image/png": "[encoded data removed]",
      "text/plain": [
       "<Figure size 720x360 with 1 Axes>"
      ]
     },
     "metadata": {},
     "output_type": "display_data"
    }
   ],
   "source": [
    "fig, ax = plt.subplots(figsize=(10,5))\n",
    "plt.plot(unique_hour_sorted, sales_df.groupby(['Hour']).sum()['cogs'])\n",
    "plt.xticks(unique_hour_sorted)\n",
    "plt.xlabel('Hour of the Day', fontweight = 'bold', fontsize =10)\n",
    "plt.ylabel('Invoices', fontweight = 'bold', fontsize =10)\n",
    "plt.title('Sales over the Day', fontweight = 'bold', fontsize =15)\n",
    "plt.show()"
   ]
  },
  {
   "cell_type": "markdown",
   "metadata": {},
   "source": [
    "=> Nhận thấy, 2 khung giờ có doanh thu tổng thể cao nhất là **13h** và **19h**, trong đó doanh thu đạt mức đỉnh điểm vào lúc **19h**, siêu thị nên nhắc điều động nhân viên làm việc nhiều hơn ở 2 khung giờ này, đặc biệt là vào lúc `19h`"
   ]
  },
  {
   "cell_type": "markdown",
   "metadata": {},
   "source": [
    "=> Vậy nguyên nhân là gì mà doanh thủ tổng thể lại vượt trội ở 2 khung giờ này? Có phải tất cả các dòng sản phẩm đều bán chạy nhất tại 2 khung giờ này hay không, hay có 1 vài dòng sản phẩm nào đó có số lượng bán ra đột biến? Hãy cùng tìm hiểu tiếp xem sao!"
   ]
  },
  {
   "cell_type": "markdown",
   "metadata": {},
   "source": [
    "Code bước 4:"
   ]
  },
  {
   "cell_type": "code",
   "execution_count": 40,
   "metadata": {
    "scrolled": true
   },
   "outputs": [
    {
     "data": {
      "text/html": [
       "<div>\n",
       "<style scoped>\n",
       "    .dataframe tbody tr th:only-of-type {\n",
       "        vertical-align: middle;\n",
       "    }\n",
       "\n",
       "    .dataframe tbody tr th {\n",
       "        vertical-align: top;\n",
       "    }\n",
       "\n",
       "    .dataframe thead th {\n",
       "        text-align: right;\n",
       "    }\n",
       "</style>\n",
       "<table border=\"1\" class=\"dataframe\">\n",
       "  <thead>\n",
       "    <tr style=\"text-align: right;\">\n",
       "      <th>Product line</th>\n",
       "      <th>Electronic accessories</th>\n",
       "      <th>Fashion accessories</th>\n",
       "      <th>Food and beverages</th>\n",
       "      <th>Health and beauty</th>\n",
       "      <th>Home and lifestyle</th>\n",
       "      <th>Sports and travel</th>\n",
       "    </tr>\n",
       "    <tr>\n",
       "      <th>Hour</th>\n",
       "      <th></th>\n",
       "      <th></th>\n",
       "      <th></th>\n",
       "      <th></th>\n",
       "      <th></th>\n",
       "      <th></th>\n",
       "    </tr>\n",
       "  </thead>\n",
       "  <tbody>\n",
       "    <tr>\n",
       "      <th>10</th>\n",
       "      <td>4016.92</td>\n",
       "      <td>5812.04</td>\n",
       "      <td>4613.18</td>\n",
       "      <td>4779.11</td>\n",
       "      <td>5794.98</td>\n",
       "      <td>4908.99</td>\n",
       "    </tr>\n",
       "    <tr>\n",
       "      <th>11</th>\n",
       "      <td>5666.84</td>\n",
       "      <td>4160.48</td>\n",
       "      <td>6111.15</td>\n",
       "      <td>3148.20</td>\n",
       "      <td>6003.17</td>\n",
       "      <td>3840.95</td>\n",
       "    </tr>\n",
       "    <tr>\n",
       "      <th>12</th>\n",
       "      <td>3279.09</td>\n",
       "      <td>4715.22</td>\n",
       "      <td>4105.62</td>\n",
       "      <td>4147.91</td>\n",
       "      <td>3468.29</td>\n",
       "      <td>5108.52</td>\n",
       "    </tr>\n",
       "    <tr>\n",
       "      <th>13</th>\n",
       "      <td>3692.50</td>\n",
       "      <td>7723.23</td>\n",
       "      <td>3569.38</td>\n",
       "      <td>5589.21</td>\n",
       "      <td>5925.70</td>\n",
       "      <td>6569.72</td>\n",
       "    </tr>\n",
       "    <tr>\n",
       "      <th>14</th>\n",
       "      <td>5422.45</td>\n",
       "      <td>4519.21</td>\n",
       "      <td>4060.25</td>\n",
       "      <td>7077.90</td>\n",
       "      <td>2708.29</td>\n",
       "      <td>5572.28</td>\n",
       "    </tr>\n",
       "    <tr>\n",
       "      <th>15</th>\n",
       "      <td>5482.48</td>\n",
       "      <td>3292.06</td>\n",
       "      <td>7064.95</td>\n",
       "      <td>3279.30</td>\n",
       "      <td>5904.01</td>\n",
       "      <td>4671.97</td>\n",
       "    </tr>\n",
       "    <tr>\n",
       "      <th>16</th>\n",
       "      <td>3301.21</td>\n",
       "      <td>5281.33</td>\n",
       "      <td>4345.32</td>\n",
       "      <td>2690.33</td>\n",
       "      <td>3496.61</td>\n",
       "      <td>4910.27</td>\n",
       "    </tr>\n",
       "    <tr>\n",
       "      <th>17</th>\n",
       "      <td>3916.11</td>\n",
       "      <td>3922.21</td>\n",
       "      <td>1353.66</td>\n",
       "      <td>3687.96</td>\n",
       "      <td>6736.87</td>\n",
       "      <td>3664.35</td>\n",
       "    </tr>\n",
       "    <tr>\n",
       "      <th>18</th>\n",
       "      <td>6140.17</td>\n",
       "      <td>4249.51</td>\n",
       "      <td>3998.61</td>\n",
       "      <td>3723.67</td>\n",
       "      <td>3223.03</td>\n",
       "      <td>3455.81</td>\n",
       "    </tr>\n",
       "    <tr>\n",
       "      <th>19</th>\n",
       "      <td>5502.05</td>\n",
       "      <td>5844.91</td>\n",
       "      <td>7601.41</td>\n",
       "      <td>5109.92</td>\n",
       "      <td>5257.20</td>\n",
       "      <td>8493.57</td>\n",
       "    </tr>\n",
       "    <tr>\n",
       "      <th>20</th>\n",
       "      <td>5330.21</td>\n",
       "      <td>2199.70</td>\n",
       "      <td>6647.75</td>\n",
       "      <td>3617.67</td>\n",
       "      <td>2778.91</td>\n",
       "      <td>1301.50</td>\n",
       "    </tr>\n",
       "  </tbody>\n",
       "</table>\n",
       "</div>"
      ],
      "text/plain": [
       "Product line  Electronic accessories  Fashion accessories  Food and beverages  \\\n",
       "Hour                                                                            \n",
       "10                           4016.92              5812.04             4613.18   \n",
       "11                           5666.84              4160.48             6111.15   \n",
       "12                           3279.09              4715.22             4105.62   \n",
       "13                           3692.50              7723.23             3569.38   \n",
       "14                           5422.45              4519.21             4060.25   \n",
       "15                           5482.48              3292.06             7064.95   \n",
       "16                           3301.21              5281.33             4345.32   \n",
       "17                           3916.11              3922.21             1353.66   \n",
       "18                           6140.17              4249.51             3998.61   \n",
       "19                           5502.05              5844.91             7601.41   \n",
       "20                           5330.21              2199.70             6647.75   \n",
       "\n",
       "Product line  Health and beauty  Home and lifestyle  Sports and travel  \n",
       "Hour                                                                    \n",
       "10                      4779.11             5794.98            4908.99  \n",
       "11                      3148.20             6003.17            3840.95  \n",
       "12                      4147.91             3468.29            5108.52  \n",
       "13                      5589.21             5925.70            6569.72  \n",
       "14                      7077.90             2708.29            5572.28  \n",
       "15                      3279.30             5904.01            4671.97  \n",
       "16                      2690.33             3496.61            4910.27  \n",
       "17                      3687.96             6736.87            3664.35  \n",
       "18                      3723.67             3223.03            3455.81  \n",
       "19                      5109.92             5257.20            8493.57  \n",
       "20                      3617.67             2778.91            1301.50  "
      ]
     },
     "execution_count": 40,
     "metadata": {},
     "output_type": "execute_result"
    }
   ],
   "source": [
    "hourly_sales_each_productline = pd.pivot_table(sales_df, values='cogs', index='Hour'\n",
    "                                               , columns='Product line', aggfunc='sum').reset_index()\n",
    "hourly_sales_each_productline.set_index('Hour', inplace=True)\n",
    "hourly_sales_each_productline"
   ]
  },
  {
   "cell_type": "code",
   "execution_count": 41,
   "metadata": {},
   "outputs": [
    {
     "data": {
      "text/plain": [
       "['Electronic accessories',\n",
       " 'Fashion accessories',\n",
       " 'Food and beverages',\n",
       " 'Health and beauty',\n",
       " 'Home and lifestyle',\n",
       " 'Sports and travel']"
      ]
     },
     "execution_count": 41,
     "metadata": {},
     "output_type": "execute_result"
    }
   ],
   "source": [
    "# Tạo list chứa các dòng sản phẩm \n",
    "product_lines = hourly_sales_each_productline.columns.values.tolist()\n",
    "product_lines"
   ]
  },
  {
   "cell_type": "markdown",
   "metadata": {},
   "source": [
    "Code bước 5:"
   ]
  },
  {
   "cell_type": "code",
   "execution_count": 42,
   "metadata": {},
   "outputs": [
    {
     "data": {
      "image/png": "[encoded data removed]",
      "text/plain": [
       "<Figure size 1080x432 with 1 Axes>"
      ]
     },
     "metadata": {},
     "output_type": "display_data"
    }
   ],
   "source": [
    "fig1, ax = plt.subplots(figsize=(15,6))\n",
    "keys = [pair for pair, df in hourly_sales_each_productline.groupby(['Hour'])]\n",
    "plt.plot(keys, hourly_sales_each_productline.groupby(['Hour']).sum(),'--',linewidth=3.0 )\n",
    "plt.grid(True)\n",
    "plt.xticks(keys)\n",
    "plt.xlabel('\\n Hour of the Day', fontweight = 'bold', fontsize =10)\n",
    "plt.ylabel('Sales', fontweight = 'bold', fontsize =10)\n",
    "plt.title('Sales over the Day', fontweight = 'bold', fontsize =15)\n",
    "plt.legend(product_lines)\n",
    "plt.show()"
   ]
  },
  {
   "cell_type": "markdown",
   "metadata": {},
   "source": [
    "**NHẬN XÉT**: <br>\n",
    "- Dựa vào biểu đồ trên, ta có thế thấy rõ những dòng sản phẩm nào sẽ bán chạy vào những khung giờ nào => theo đó các nhân viên của từng quầy bán dòng sản phẩm đó có thể linh hoạt trình bày các mặt hàng ở vị trí thích hợp -> kích cầu khách hàng.\n",
    "- Đúng như ta dự đoán, ở 2 khung giờ `13h` và `19h`, doanh thu tổng thể vượt trội so với các khung giờ còn lại không đồng nghĩa với việc doanh thu của tất cả các dòng sản phẩm đều cao nhất mà có doanh thu của một vài dòng sản phẩm cao đột biến làm cho doanh thu tổng thể cao vượt trội như vậy.\n",
    "    - Ví dụ: ở khung giờ 13h, chỉ có 3 dòng sản phầm là `Fashion accessories`, `Sports and travel` và `Home and lifestyle` là cao mà thôi => siêu thị nên điều động nhân viên làm việc nhiều ở các quầy hàng này, tương tự ở khung giờ `19h`, chỉ có 2 dòng sản phẩm là `Food and beverages` và `Sports and travel` có doanh thu cao đột biến mà thôi, nên cũng chỉ cần điều động nhiều nhân viên giới thiệu sản phẩm và bán hàng ở các quầy hàng này. "
   ]
  },
  {
   "cell_type": "markdown",
   "metadata": {},
   "source": [
    "### Câu hỏi 3"
   ]
  },
  {
   "cell_type": "markdown",
   "metadata": {},
   "source": [
    "Có mối quan hệ nào giữa doanh số bán một dòng sản phẩm nhất định và giới tính của khách hàng mua nó không?"
   ]
  },
  {
   "cell_type": "markdown",
   "metadata": {},
   "source": [
    "**Lợi ích**: nếu trả lời được câu hỏi này, nhân viên khi bán hàng khi giới thiệu sản phẩm có thể cân nhắc và ưu tiên hơn, tùy dòng sản phẩm mà nhân viên bán hàng sẽ lựa chọn đối tượng (theo giới tính) để giới thiệu."
   ]
  },
  {
   "cell_type": "markdown",
   "metadata": {},
   "source": [
    "=> Giúp kích cầu khách hàng mua sản phẩm, các dòng sản phẩm được bán chạy hơn (vì nắm bắt được nhu cầu của khách hàng theo giới tính), doanh thu siêu thị ổn định và lợi nhuận nhiều hơn."
   ]
  },
  {
   "cell_type": "code",
   "execution_count": 43,
   "metadata": {
    "scrolled": true
   },
   "outputs": [
    {
     "data": {
      "image/png": "[encoded data removed]",
      "text/plain": [
       "<Figure size 1080x360 with 1 Axes>"
      ]
     },
     "metadata": {},
     "output_type": "display_data"
    }
   ],
   "source": [
    "fig, ax = plt.subplots(figsize=(15,5))\n",
    "sns.barplot(x='Product line',y='cogs',data = sales_df, estimator=sum,hue = sales_df['Gender'], palette = 'rocket', ci = None)\n",
    "ax.set(facecolor = 'grey')\n",
    "plt.xticks(rotation=90)\n",
    "plt.xlabel('\\n Product Line', fontweight = 'bold', fontsize =10)\n",
    "plt.ylabel('Sales', fontweight = 'bold', fontsize =10)\n",
    "plt.title('Sales by Gender', fontweight = 'bold', fontsize =15)\n",
    "plt.savefig(\"Sales by Gender.png\")\n",
    "plt.show()"
   ]
  },
  {
   "cell_type": "markdown",
   "metadata": {},
   "source": [
    "=> Nhận thấy dòng sản phẩm `Heath and beauty` được nhiều khách hàng nam mua nhiều hơn đáng kể so với nữ trong khi các phẩm còn lại, khách hàng nữ luôn mua nhiều mua nhiều hơn khá nhiều so với khách hàng nam."
   ]
  },
  {
   "cell_type": "markdown",
   "metadata": {},
   "source": [
    "### Câu hỏi 4"
   ]
  },
  {
   "cell_type": "markdown",
   "metadata": {},
   "source": [
    "Mỗi dòng sản phẩm hoạt động như thế nào qua các tháng - doanh số cũng như số lượng có khôn ngoan không?"
   ]
  },
  {
   "cell_type": "markdown",
   "metadata": {},
   "source": [
    "Ta lần lượt làm các bước sau:\n",
    "- Bước 1: Thêm cột `Month` vào dataframe `sales_df` để việc trả lời câu hỏi trở nên thuận tiện\n",
    "- Bước 2: Tạo một datarame mới có các cột là `Product line` và các tháng khác nhau từ Series `sales_df['Month']`, từng dòng dữ liệu là từng dòng sản phẩm kèm theo doanh thu của từng dòng sản phẩm theo các tháng và lưu vào `monthly_sale_productline`\n",
    "- Bước 3: Tiếp tục tạo một datarame mới có các cột là `Product line` và các tháng khác nhau từ Series `sales_df['Month']`, từng dòng dữ liệu là từng dòng sản phẩm kèm theo số lượng bán ra của từng dòng sản phẩm theo các tháng và lưu vào `monthly_quantity_productline`\n",
    "- Bước 4: Vẽ 2 biểu đồ đường cùng lúc có trục hoành là tất cả các dòng sản phẩm, trục tung của biểu đồ đường đầu tiên doanh thu của dòng sản phẩm và trục tung của điểu đồ đường thứ hai là tổng số sản phẩm của dòng sản phẩm được bán ra theo tháng."
   ]
  },
  {
   "cell_type": "markdown",
   "metadata": {},
   "source": [
    "Code bước 1:"
   ]
  },
  {
   "cell_type": "code",
   "execution_count": 44,
   "metadata": {},
   "outputs": [],
   "source": [
    "sales_df['Month'] = (sales_df['Date']).dt.month"
   ]
  },
  {
   "cell_type": "code",
   "execution_count": 45,
   "metadata": {
    "scrolled": true
   },
   "outputs": [
    {
     "data": {
      "text/html": [
       "<div>\n",
       "<style scoped>\n",
       "    .dataframe tbody tr th:only-of-type {\n",
       "        vertical-align: middle;\n",
       "    }\n",
       "\n",
       "    .dataframe tbody tr th {\n",
       "        vertical-align: top;\n",
       "    }\n",
       "\n",
       "    .dataframe thead th {\n",
       "        text-align: right;\n",
       "    }\n",
       "</style>\n",
       "<table border=\"1\" class=\"dataframe\">\n",
       "  <thead>\n",
       "    <tr style=\"text-align: right;\">\n",
       "      <th></th>\n",
       "      <th>ID</th>\n",
       "      <th>Branch</th>\n",
       "      <th>City</th>\n",
       "      <th>Customer type</th>\n",
       "      <th>Gender</th>\n",
       "      <th>Product line</th>\n",
       "      <th>Unit price</th>\n",
       "      <th>Quantity</th>\n",
       "      <th>Tax 5%</th>\n",
       "      <th>Total</th>\n",
       "      <th>Date</th>\n",
       "      <th>Time</th>\n",
       "      <th>Payment</th>\n",
       "      <th>cogs</th>\n",
       "      <th>gross margin percentage</th>\n",
       "      <th>gross income</th>\n",
       "      <th>Rating</th>\n",
       "      <th>Hour</th>\n",
       "      <th>Month</th>\n",
       "    </tr>\n",
       "  </thead>\n",
       "  <tbody>\n",
       "    <tr>\n",
       "      <th>0</th>\n",
       "      <td>750678428</td>\n",
       "      <td>A</td>\n",
       "      <td>Yangon</td>\n",
       "      <td>Member</td>\n",
       "      <td>Female</td>\n",
       "      <td>Health and beauty</td>\n",
       "      <td>74.69</td>\n",
       "      <td>7</td>\n",
       "      <td>26.1415</td>\n",
       "      <td>548.9715</td>\n",
       "      <td>2019-01-05</td>\n",
       "      <td>1900-01-01 13:08:00</td>\n",
       "      <td>Ewallet</td>\n",
       "      <td>522.83</td>\n",
       "      <td>4.761905</td>\n",
       "      <td>26.1415</td>\n",
       "      <td>9.1</td>\n",
       "      <td>13</td>\n",
       "      <td>1</td>\n",
       "    </tr>\n",
       "    <tr>\n",
       "      <th>1</th>\n",
       "      <td>226313081</td>\n",
       "      <td>C</td>\n",
       "      <td>Naypyitaw</td>\n",
       "      <td>Normal</td>\n",
       "      <td>Female</td>\n",
       "      <td>Electronic accessories</td>\n",
       "      <td>15.28</td>\n",
       "      <td>5</td>\n",
       "      <td>3.8200</td>\n",
       "      <td>80.2200</td>\n",
       "      <td>2019-03-08</td>\n",
       "      <td>1900-01-01 10:29:00</td>\n",
       "      <td>Cash</td>\n",
       "      <td>76.40</td>\n",
       "      <td>4.761905</td>\n",
       "      <td>3.8200</td>\n",
       "      <td>9.6</td>\n",
       "      <td>10</td>\n",
       "      <td>3</td>\n",
       "    </tr>\n",
       "    <tr>\n",
       "      <th>2</th>\n",
       "      <td>631413108</td>\n",
       "      <td>A</td>\n",
       "      <td>Yangon</td>\n",
       "      <td>Normal</td>\n",
       "      <td>Male</td>\n",
       "      <td>Home and lifestyle</td>\n",
       "      <td>46.33</td>\n",
       "      <td>7</td>\n",
       "      <td>16.2155</td>\n",
       "      <td>340.5255</td>\n",
       "      <td>2019-03-03</td>\n",
       "      <td>1900-01-01 13:23:00</td>\n",
       "      <td>Credit card</td>\n",
       "      <td>324.31</td>\n",
       "      <td>4.761905</td>\n",
       "      <td>16.2155</td>\n",
       "      <td>7.4</td>\n",
       "      <td>13</td>\n",
       "      <td>3</td>\n",
       "    </tr>\n",
       "    <tr>\n",
       "      <th>3</th>\n",
       "      <td>123191176</td>\n",
       "      <td>A</td>\n",
       "      <td>Yangon</td>\n",
       "      <td>Member</td>\n",
       "      <td>Male</td>\n",
       "      <td>Health and beauty</td>\n",
       "      <td>58.22</td>\n",
       "      <td>8</td>\n",
       "      <td>23.2880</td>\n",
       "      <td>489.0480</td>\n",
       "      <td>2019-01-27</td>\n",
       "      <td>1900-01-01 20:33:00</td>\n",
       "      <td>Ewallet</td>\n",
       "      <td>465.76</td>\n",
       "      <td>4.761905</td>\n",
       "      <td>23.2880</td>\n",
       "      <td>8.4</td>\n",
       "      <td>20</td>\n",
       "      <td>1</td>\n",
       "    </tr>\n",
       "    <tr>\n",
       "      <th>4</th>\n",
       "      <td>373737910</td>\n",
       "      <td>A</td>\n",
       "      <td>Yangon</td>\n",
       "      <td>Normal</td>\n",
       "      <td>Male</td>\n",
       "      <td>Sports and travel</td>\n",
       "      <td>86.31</td>\n",
       "      <td>7</td>\n",
       "      <td>30.2085</td>\n",
       "      <td>634.3785</td>\n",
       "      <td>2019-02-08</td>\n",
       "      <td>1900-01-01 10:37:00</td>\n",
       "      <td>Ewallet</td>\n",
       "      <td>604.17</td>\n",
       "      <td>4.761905</td>\n",
       "      <td>30.2085</td>\n",
       "      <td>5.3</td>\n",
       "      <td>10</td>\n",
       "      <td>2</td>\n",
       "    </tr>\n",
       "    <tr>\n",
       "      <th>...</th>\n",
       "      <td>...</td>\n",
       "      <td>...</td>\n",
       "      <td>...</td>\n",
       "      <td>...</td>\n",
       "      <td>...</td>\n",
       "      <td>...</td>\n",
       "      <td>...</td>\n",
       "      <td>...</td>\n",
       "      <td>...</td>\n",
       "      <td>...</td>\n",
       "      <td>...</td>\n",
       "      <td>...</td>\n",
       "      <td>...</td>\n",
       "      <td>...</td>\n",
       "      <td>...</td>\n",
       "      <td>...</td>\n",
       "      <td>...</td>\n",
       "      <td>...</td>\n",
       "      <td>...</td>\n",
       "    </tr>\n",
       "    <tr>\n",
       "      <th>995</th>\n",
       "      <td>233675758</td>\n",
       "      <td>C</td>\n",
       "      <td>Naypyitaw</td>\n",
       "      <td>Normal</td>\n",
       "      <td>Male</td>\n",
       "      <td>Health and beauty</td>\n",
       "      <td>40.35</td>\n",
       "      <td>1</td>\n",
       "      <td>2.0175</td>\n",
       "      <td>42.3675</td>\n",
       "      <td>2019-01-29</td>\n",
       "      <td>1900-01-01 13:46:00</td>\n",
       "      <td>Ewallet</td>\n",
       "      <td>40.35</td>\n",
       "      <td>4.761905</td>\n",
       "      <td>2.0175</td>\n",
       "      <td>6.2</td>\n",
       "      <td>13</td>\n",
       "      <td>1</td>\n",
       "    </tr>\n",
       "    <tr>\n",
       "      <th>996</th>\n",
       "      <td>303962227</td>\n",
       "      <td>B</td>\n",
       "      <td>Mandalay</td>\n",
       "      <td>Normal</td>\n",
       "      <td>Female</td>\n",
       "      <td>Home and lifestyle</td>\n",
       "      <td>97.38</td>\n",
       "      <td>10</td>\n",
       "      <td>48.6900</td>\n",
       "      <td>1022.4900</td>\n",
       "      <td>2019-03-02</td>\n",
       "      <td>1900-01-01 17:16:00</td>\n",
       "      <td>Ewallet</td>\n",
       "      <td>973.80</td>\n",
       "      <td>4.761905</td>\n",
       "      <td>48.6900</td>\n",
       "      <td>4.4</td>\n",
       "      <td>17</td>\n",
       "      <td>3</td>\n",
       "    </tr>\n",
       "    <tr>\n",
       "      <th>997</th>\n",
       "      <td>727021313</td>\n",
       "      <td>A</td>\n",
       "      <td>Yangon</td>\n",
       "      <td>Member</td>\n",
       "      <td>Male</td>\n",
       "      <td>Food and beverages</td>\n",
       "      <td>31.84</td>\n",
       "      <td>1</td>\n",
       "      <td>1.5920</td>\n",
       "      <td>33.4320</td>\n",
       "      <td>2019-02-09</td>\n",
       "      <td>1900-01-01 13:22:00</td>\n",
       "      <td>Cash</td>\n",
       "      <td>31.84</td>\n",
       "      <td>4.761905</td>\n",
       "      <td>1.5920</td>\n",
       "      <td>7.7</td>\n",
       "      <td>13</td>\n",
       "      <td>2</td>\n",
       "    </tr>\n",
       "    <tr>\n",
       "      <th>998</th>\n",
       "      <td>347562442</td>\n",
       "      <td>A</td>\n",
       "      <td>Yangon</td>\n",
       "      <td>Normal</td>\n",
       "      <td>Male</td>\n",
       "      <td>Home and lifestyle</td>\n",
       "      <td>65.82</td>\n",
       "      <td>1</td>\n",
       "      <td>3.2910</td>\n",
       "      <td>69.1110</td>\n",
       "      <td>2019-02-22</td>\n",
       "      <td>1900-01-01 15:33:00</td>\n",
       "      <td>Cash</td>\n",
       "      <td>65.82</td>\n",
       "      <td>4.761905</td>\n",
       "      <td>3.2910</td>\n",
       "      <td>4.1</td>\n",
       "      <td>15</td>\n",
       "      <td>2</td>\n",
       "    </tr>\n",
       "    <tr>\n",
       "      <th>999</th>\n",
       "      <td>849093807</td>\n",
       "      <td>A</td>\n",
       "      <td>Yangon</td>\n",
       "      <td>Member</td>\n",
       "      <td>Female</td>\n",
       "      <td>Fashion accessories</td>\n",
       "      <td>88.34</td>\n",
       "      <td>7</td>\n",
       "      <td>30.9190</td>\n",
       "      <td>649.2990</td>\n",
       "      <td>2019-02-18</td>\n",
       "      <td>1900-01-01 13:28:00</td>\n",
       "      <td>Cash</td>\n",
       "      <td>618.38</td>\n",
       "      <td>4.761905</td>\n",
       "      <td>30.9190</td>\n",
       "      <td>6.6</td>\n",
       "      <td>13</td>\n",
       "      <td>2</td>\n",
       "    </tr>\n",
       "  </tbody>\n",
       "</table>\n",
       "<p>1000 rows × 19 columns</p>\n",
       "</div>"
      ],
      "text/plain": [
       "            ID Branch       City Customer type  Gender  \\\n",
       "0    750678428      A     Yangon        Member  Female   \n",
       "1    226313081      C  Naypyitaw        Normal  Female   \n",
       "2    631413108      A     Yangon        Normal    Male   \n",
       "3    123191176      A     Yangon        Member    Male   \n",
       "4    373737910      A     Yangon        Normal    Male   \n",
       "..         ...    ...        ...           ...     ...   \n",
       "995  233675758      C  Naypyitaw        Normal    Male   \n",
       "996  303962227      B   Mandalay        Normal  Female   \n",
       "997  727021313      A     Yangon        Member    Male   \n",
       "998  347562442      A     Yangon        Normal    Male   \n",
       "999  849093807      A     Yangon        Member  Female   \n",
       "\n",
       "               Product line  Unit price  Quantity   Tax 5%      Total  \\\n",
       "0         Health and beauty       74.69         7  26.1415   548.9715   \n",
       "1    Electronic accessories       15.28         5   3.8200    80.2200   \n",
       "2        Home and lifestyle       46.33         7  16.2155   340.5255   \n",
       "3         Health and beauty       58.22         8  23.2880   489.0480   \n",
       "4         Sports and travel       86.31         7  30.2085   634.3785   \n",
       "..                      ...         ...       ...      ...        ...   \n",
       "995       Health and beauty       40.35         1   2.0175    42.3675   \n",
       "996      Home and lifestyle       97.38        10  48.6900  1022.4900   \n",
       "997      Food and beverages       31.84         1   1.5920    33.4320   \n",
       "998      Home and lifestyle       65.82         1   3.2910    69.1110   \n",
       "999     Fashion accessories       88.34         7  30.9190   649.2990   \n",
       "\n",
       "          Date                Time      Payment    cogs  \\\n",
       "0   2019-01-05 1900-01-01 13:08:00      Ewallet  522.83   \n",
       "1   2019-03-08 1900-01-01 10:29:00         Cash   76.40   \n",
       "2   2019-03-03 1900-01-01 13:23:00  Credit card  324.31   \n",
       "3   2019-01-27 1900-01-01 20:33:00      Ewallet  465.76   \n",
       "4   2019-02-08 1900-01-01 10:37:00      Ewallet  604.17   \n",
       "..         ...                 ...          ...     ...   \n",
       "995 2019-01-29 1900-01-01 13:46:00      Ewallet   40.35   \n",
       "996 2019-03-02 1900-01-01 17:16:00      Ewallet  973.80   \n",
       "997 2019-02-09 1900-01-01 13:22:00         Cash   31.84   \n",
       "998 2019-02-22 1900-01-01 15:33:00         Cash   65.82   \n",
       "999 2019-02-18 1900-01-01 13:28:00         Cash  618.38   \n",
       "\n",
       "     gross margin percentage  gross income  Rating  Hour  Month  \n",
       "0                   4.761905       26.1415     9.1    13      1  \n",
       "1                   4.761905        3.8200     9.6    10      3  \n",
       "2                   4.761905       16.2155     7.4    13      3  \n",
       "3                   4.761905       23.2880     8.4    20      1  \n",
       "4                   4.761905       30.2085     5.3    10      2  \n",
       "..                       ...           ...     ...   ...    ...  \n",
       "995                 4.761905        2.0175     6.2    13      1  \n",
       "996                 4.761905       48.6900     4.4    17      3  \n",
       "997                 4.761905        1.5920     7.7    13      2  \n",
       "998                 4.761905        3.2910     4.1    15      2  \n",
       "999                 4.761905       30.9190     6.6    13      2  \n",
       "\n",
       "[1000 rows x 19 columns]"
      ]
     },
     "execution_count": 45,
     "metadata": {},
     "output_type": "execute_result"
    }
   ],
   "source": [
    "sales_df"
   ]
  },
  {
   "cell_type": "code",
   "execution_count": 46,
   "metadata": {},
   "outputs": [
    {
     "data": {
      "text/plain": [
       "array([1, 3, 2], dtype=int64)"
      ]
     },
     "execution_count": 46,
     "metadata": {},
     "output_type": "execute_result"
    }
   ],
   "source": [
    "sales_df['Month'].unique()"
   ]
  },
  {
   "cell_type": "markdown",
   "metadata": {},
   "source": [
    "Code bước 2:"
   ]
  },
  {
   "cell_type": "code",
   "execution_count": 47,
   "metadata": {},
   "outputs": [
    {
     "data": {
      "text/html": [
       "<div>\n",
       "<style scoped>\n",
       "    .dataframe tbody tr th:only-of-type {\n",
       "        vertical-align: middle;\n",
       "    }\n",
       "\n",
       "    .dataframe tbody tr th {\n",
       "        vertical-align: top;\n",
       "    }\n",
       "\n",
       "    .dataframe thead th {\n",
       "        text-align: right;\n",
       "    }\n",
       "</style>\n",
       "<table border=\"1\" class=\"dataframe\">\n",
       "  <thead>\n",
       "    <tr style=\"text-align: right;\">\n",
       "      <th></th>\n",
       "      <th>Month</th>\n",
       "      <th>1</th>\n",
       "      <th>2</th>\n",
       "      <th>3</th>\n",
       "    </tr>\n",
       "    <tr>\n",
       "      <th></th>\n",
       "      <th>Product line</th>\n",
       "      <th></th>\n",
       "      <th></th>\n",
       "      <th></th>\n",
       "    </tr>\n",
       "  </thead>\n",
       "  <tbody>\n",
       "    <tr>\n",
       "      <th>0</th>\n",
       "      <th>Electronic accessories</th>\n",
       "      <td>17934.56</td>\n",
       "      <td>16536.10</td>\n",
       "      <td>17279.37</td>\n",
       "    </tr>\n",
       "    <tr>\n",
       "      <th>1</th>\n",
       "      <th>Fashion accessories</th>\n",
       "      <td>18423.92</td>\n",
       "      <td>18104.63</td>\n",
       "      <td>15191.35</td>\n",
       "    </tr>\n",
       "    <tr>\n",
       "      <th>2</th>\n",
       "      <th>Food and beverages</th>\n",
       "      <td>18638.60</td>\n",
       "      <td>19047.96</td>\n",
       "      <td>15784.72</td>\n",
       "    </tr>\n",
       "    <tr>\n",
       "      <th>3</th>\n",
       "      <th>Health and beauty</th>\n",
       "      <td>15603.02</td>\n",
       "      <td>13906.91</td>\n",
       "      <td>17341.25</td>\n",
       "    </tr>\n",
       "    <tr>\n",
       "      <th>4</th>\n",
       "      <th>Home and lifestyle</th>\n",
       "      <td>19518.80</td>\n",
       "      <td>11842.27</td>\n",
       "      <td>19935.99</td>\n",
       "    </tr>\n",
       "    <tr>\n",
       "      <th>5</th>\n",
       "      <th>Sports and travel</th>\n",
       "      <td>20635.26</td>\n",
       "      <td>13152.01</td>\n",
       "      <td>18710.66</td>\n",
       "    </tr>\n",
       "  </tbody>\n",
       "</table>\n",
       "</div>"
      ],
      "text/plain": [
       "Month                            1         2         3\n",
       "  Product line                                        \n",
       "0 Electronic accessories  17934.56  16536.10  17279.37\n",
       "1 Fashion accessories     18423.92  18104.63  15191.35\n",
       "2 Food and beverages      18638.60  19047.96  15784.72\n",
       "3 Health and beauty       15603.02  13906.91  17341.25\n",
       "4 Home and lifestyle      19518.80  11842.27  19935.99\n",
       "5 Sports and travel       20635.26  13152.01  18710.66"
      ]
     },
     "execution_count": 47,
     "metadata": {},
     "output_type": "execute_result"
    }
   ],
   "source": [
    "monthly_sale_productline = pd.pivot_table(sales_df, values='cogs', columns='Month', index='Product line', aggfunc='sum').reset_index()\n",
    "monthly_sale_productline.set_index(['Product line'], drop=True, append=True, inplace=True, verify_integrity=False)\n",
    "monthly_sale_productline"
   ]
  },
  {
   "cell_type": "markdown",
   "metadata": {},
   "source": [
    "Code bước 3:"
   ]
  },
  {
   "cell_type": "code",
   "execution_count": 48,
   "metadata": {},
   "outputs": [
    {
     "data": {
      "text/html": [
       "<div>\n",
       "<style scoped>\n",
       "    .dataframe tbody tr th:only-of-type {\n",
       "        vertical-align: middle;\n",
       "    }\n",
       "\n",
       "    .dataframe tbody tr th {\n",
       "        vertical-align: top;\n",
       "    }\n",
       "\n",
       "    .dataframe thead th {\n",
       "        text-align: right;\n",
       "    }\n",
       "</style>\n",
       "<table border=\"1\" class=\"dataframe\">\n",
       "  <thead>\n",
       "    <tr style=\"text-align: right;\">\n",
       "      <th></th>\n",
       "      <th>Month</th>\n",
       "      <th>1</th>\n",
       "      <th>2</th>\n",
       "      <th>3</th>\n",
       "    </tr>\n",
       "    <tr>\n",
       "      <th></th>\n",
       "      <th>Product line</th>\n",
       "      <th></th>\n",
       "      <th></th>\n",
       "      <th></th>\n",
       "    </tr>\n",
       "  </thead>\n",
       "  <tbody>\n",
       "    <tr>\n",
       "      <th>0</th>\n",
       "      <th>Electronic accessories</th>\n",
       "      <td>333</td>\n",
       "      <td>313</td>\n",
       "      <td>325</td>\n",
       "    </tr>\n",
       "    <tr>\n",
       "      <th>1</th>\n",
       "      <th>Fashion accessories</th>\n",
       "      <td>336</td>\n",
       "      <td>295</td>\n",
       "      <td>271</td>\n",
       "    </tr>\n",
       "    <tr>\n",
       "      <th>2</th>\n",
       "      <th>Food and beverages</th>\n",
       "      <td>325</td>\n",
       "      <td>349</td>\n",
       "      <td>278</td>\n",
       "    </tr>\n",
       "    <tr>\n",
       "      <th>3</th>\n",
       "      <th>Health and beauty</th>\n",
       "      <td>254</td>\n",
       "      <td>266</td>\n",
       "      <td>334</td>\n",
       "    </tr>\n",
       "    <tr>\n",
       "      <th>4</th>\n",
       "      <th>Home and lifestyle</th>\n",
       "      <td>342</td>\n",
       "      <td>205</td>\n",
       "      <td>364</td>\n",
       "    </tr>\n",
       "    <tr>\n",
       "      <th>5</th>\n",
       "      <th>Sports and travel</th>\n",
       "      <td>375</td>\n",
       "      <td>226</td>\n",
       "      <td>319</td>\n",
       "    </tr>\n",
       "  </tbody>\n",
       "</table>\n",
       "</div>"
      ],
      "text/plain": [
       "Month                       1    2    3\n",
       "  Product line                         \n",
       "0 Electronic accessories  333  313  325\n",
       "1 Fashion accessories     336  295  271\n",
       "2 Food and beverages      325  349  278\n",
       "3 Health and beauty       254  266  334\n",
       "4 Home and lifestyle      342  205  364\n",
       "5 Sports and travel       375  226  319"
      ]
     },
     "execution_count": 48,
     "metadata": {},
     "output_type": "execute_result"
    }
   ],
   "source": [
    "monthly_quantity_productline = pd.pivot_table(sales_df, values=('Quantity'), columns='Month', index='Product line', aggfunc='sum').reset_index()\n",
    "monthly_quantity_productline.set_index(['Product line'], drop=True, append=True, inplace=True, verify_integrity=False)\n",
    "monthly_quantity_productline"
   ]
  },
  {
   "cell_type": "markdown",
   "metadata": {},
   "source": [
    "Code bước 4:"
   ]
  },
  {
   "cell_type": "code",
   "execution_count": 49,
   "metadata": {
    "scrolled": true
   },
   "outputs": [
    {
     "data": {
      "image/png": "[encoded data removed]",
      "text/plain": [
       "<Figure size 1080x360 with 2 Axes>"
      ]
     },
     "metadata": {},
     "output_type": "display_data"
    }
   ],
   "source": [
    "keys = [pair for pair, df in monthly_sale_productline.groupby(['Product line'])]\n",
    "fig, (ax1, ax2) = plt.subplots(2, 1, figsize=(15,5))\n",
    "\n",
    "fig.suptitle('Qty & Sale Over Months', fontweight = 'bold', fontsize=15)\n",
    "ax1.plot(keys, monthly_sale_productline.groupby(['Product line']).sum(), 'o-')\n",
    "ax1.set_xticks([])\n",
    "plt.xticks(rotation =90)\n",
    "ax1.set_ylabel('Sales', fontweight = 'bold', fontsize=10)\n",
    "ax1.set_xlabel('Product Line', fontweight = 'bold', fontsize=10)\n",
    "ax2.plot(keys, monthly_quantity_productline.groupby(['Product line']).sum(), '.-')\n",
    "ax2.set_ylabel('Quantities', fontweight = 'bold', fontsize=10)\n",
    "leg= ('Month 1','Month 2','Month 3')\n",
    "plt.legend(leg, loc='best')\n",
    "\n",
    "plt.show()"
   ]
  },
  {
   "cell_type": "markdown",
   "metadata": {},
   "source": [
    "---"
   ]
  },
  {
   "cell_type": "markdown",
   "metadata": {},
   "source": [
    "### Câu hỏi 5"
   ]
  },
  {
   "cell_type": "markdown",
   "metadata": {},
   "source": [
    "Lợi nhuận giữa của các dòng sản phẩm tại các thành phố là như thế nào?"
   ]
  },
  {
   "cell_type": "markdown",
   "metadata": {},
   "source": [
    "**Lợi ích :** Nếu biết được mức lợi nhuận của các dòng sản phẩm ở các thành phố hay nói cách khác có thể biết được dòng sản phẩm mà thành phố đó ưa chuộng. Siêu thị có thể cân nhắc mở thêm chi nhánh tại thành phố đó và tập trung vào sản phẩm đó nhiều hơn cũng như đẩy mạnh việc quảng cáo và truyền thông đến khách hàng khi siêu thị khai trương."
   ]
  },
  {
   "cell_type": "markdown",
   "metadata": {},
   "source": [
    "---"
   ]
  },
  {
   "cell_type": "markdown",
   "metadata": {},
   "source": [
    "Code bước 1. "
   ]
  },
  {
   "cell_type": "code",
   "execution_count": null,
   "metadata": {},
   "outputs": [],
   "source": []
  },
  {
   "cell_type": "markdown",
   "metadata": {},
   "source": [
    "Code bước 2. "
   ]
  },
  {
   "cell_type": "code",
   "execution_count": null,
   "metadata": {},
   "outputs": [],
   "source": []
  },
  {
   "cell_type": "markdown",
   "metadata": {},
   "source": [
    "## Trả lời câu hỏi"
   ]
  },
  {
   "cell_type": "markdown",
   "metadata": {},
   "source": [
    "---"
   ]
  },
  {
   "cell_type": "markdown",
   "metadata": {},
   "source": [
    "## Tài liệu tham khảo"
   ]
  },
  {
   "cell_type": "markdown",
   "metadata": {},
   "source": [
    "- **Video và colab bài giảng của thầy**\n",
    "- **Một số đoạn code nhỏ trên stackoverflow**\n",
    "- **Tham khảo câu hỏi ngay trên kangle**"
   ]
  },
  {
   "cell_type": "markdown",
   "metadata": {},
   "source": [
    "---"
   ]
  },
  {
   "cell_type": "markdown",
   "metadata": {},
   "source": [
    "## Nhìn lại quá trình làm đồ án và môn học"
   ]
  },
  {
   "cell_type": "markdown",
   "metadata": {},
   "source": [
    "### Khó khăn và thuận lợi"
   ]
  },
  {
   "cell_type": "markdown",
   "metadata": {},
   "source": [
    "-    **Khó khăn những ngày đầu học môn học :**\n",
    "- Ngày đầu khi vừa học môn này có rất nhiều thứ lạ và thấy khó khăn khi tiếp xúc lần đầu nhưng dần dần cũng vượt qua và tiến bộ hơn sau những HW của thầy.\n",
    "- Phải chống chọi với những cơn buồn ngủ buổi buổi sáng. May mắn khi học online và thầy không điểm danh nên có thể xem lại video được.\n",
    "- Phải làm những bài tập mà không biết code sao cho đúng để đáp ứng được yêu cầu vì thầy không cho xài vòng for.\n",
    "-    **Khi nhận đồ án :**\n",
    "- Việc chọn nhóm thì bọn em khá là thuận lợi vì đã quen nhau từ trước.\n",
    "- Trong quá trình làm bài thì bước khó nhất vẫn là chọn dataset vì mỗi người sẽ cảm thấy những dataset khác nhau nhưng cuối cùng cũng chốt do không có lựa chọn tốt hơn.\n",
    "- Việc đặt câu hỏi cũng khá là khó khăn đối với nhóm vì phải vừa đặt ra những câu hỏi hợp lí và đảm bảo code phù hợp.\n",
    "- Đồ án thầy cho 1 tháng nên thời gian khá thong thả nhưng mà do kì này bọn em đăng kí quá nhiều môn học( Stress nhất vẫn là nhiều deadline dí cùng một lúc) nên trong 1 tháng đó có những deadline của các môn còn lại cùng việc ôn thi cuối kì nên thời gian hoàn thành của các thành viên không đồng nhất mà phải đợi bạn làm xong mới tiếp tục được. Do đăng kí môn khác nhau nên deadline môn khác không giống nhau."
   ]
  },
  {
   "cell_type": "markdown",
   "metadata": {},
   "source": [
    "### Nhận được gì sau môn học"
   ]
  },
  {
   "cell_type": "markdown",
   "metadata": {},
   "source": [
    "- Biết sử dụng được được các thư viện pandas numpy matplotlib và nhiều thư viện khác nữa\n",
    "- Biết sử dụng python tốt hơn (Trước em toàn code c++)\n",
    "- Biết sử dụng git và linux\n",
    "- Nắm rõ hơn về quy trình của ngành khoa học dữ liệu trong việc thu thập, tiền xử lí cũng như khám phá những điều mà dữ liệu có thể đưa lại.\n",
    "- Biết cách phân chia công việc và làm việc nhóm tốt hơn.\n",
    "- Biết giúp đỡ nhau và đồng cảm với nhau hơn giữa các thành viên sau khi hoàn thành đồ án."
   ]
  }
 ],
 "metadata": {
  "kernelspec": {
   "display_name": "Python 3 (ipykernel)",
   "language": "python",
   "name": "python3"
  },
  "language_info": {
   "codemirror_mode": {
    "name": "ipython",
    "version": 3
   },
   "file_extension": ".py",
   "mimetype": "text/x-python",
   "name": "python",
   "nbconvert_exporter": "python",
   "pygments_lexer": "ipython3",
   "version": "3.8.8"
  },
  "toc": {
   "base_numbering": 1,
   "nav_menu": {},
   "number_sections": false,
   "sideBar": true,
   "skip_h1_title": false,
   "title_cell": "Table of Contents",
   "title_sidebar": "Contents",
   "toc_cell": false,
   "toc_position": {
    "height": "calc(100% - 180px)",
    "left": "10px",
    "top": "150px",
    "width": "240px"
   },
   "toc_section_display": true,
   "toc_window_display": true
  }
 },
 "nbformat": 4,
 "nbformat_minor": 4
}
